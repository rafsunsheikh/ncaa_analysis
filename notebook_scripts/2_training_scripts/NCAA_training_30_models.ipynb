{
 "cells": [
  {
   "cell_type": "code",
   "execution_count": 1,
   "metadata": {
    "colab": {
     "base_uri": "https://localhost:8080/",
     "height": 1000
    },
    "executionInfo": {
     "elapsed": 30263,
     "status": "error",
     "timestamp": 1758195481580,
     "user": {
      "displayName": "Rafsun Sheikh",
      "userId": "00661906799562681997"
     },
     "user_tz": -600
    },
    "id": "A2Kx4dwiYEMl",
    "outputId": "876cdda0-0a81-4eac-a150-14f6c7317843"
   },
   "outputs": [
    {
     "name": "stdout",
     "output_type": "stream",
     "text": [
      "Collecting gensim\n",
      "  Downloading gensim-4.3.3-cp312-cp312-manylinux_2_17_x86_64.manylinux2014_x86_64.whl.metadata (8.1 kB)\n",
      "Collecting numpy<2.0,>=1.18.5 (from gensim)\n",
      "  Downloading numpy-1.26.4-cp312-cp312-manylinux_2_17_x86_64.manylinux2014_x86_64.whl.metadata (61 kB)\n",
      "\u001b[2K     \u001b[90m━━━━━━━━━━━━━━━━━━━━━━━━━━━━━━━━━━━━━━━━\u001b[0m \u001b[32m61.0/61.0 kB\u001b[0m \u001b[31m4.1 MB/s\u001b[0m eta \u001b[36m0:00:00\u001b[0m\n",
      "\u001b[?25hCollecting scipy<1.14.0,>=1.7.0 (from gensim)\n",
      "  Downloading scipy-1.13.1-cp312-cp312-manylinux_2_17_x86_64.manylinux2014_x86_64.whl.metadata (60 kB)\n",
      "\u001b[2K     \u001b[90m━━━━━━━━━━━━━━━━━━━━━━━━━━━━━━━━━━━━━━━━\u001b[0m \u001b[32m60.6/60.6 kB\u001b[0m \u001b[31m3.2 MB/s\u001b[0m eta \u001b[36m0:00:00\u001b[0m\n",
      "\u001b[?25hRequirement already satisfied: smart-open>=1.8.1 in /usr/local/lib/python3.12/dist-packages (from gensim) (7.3.1)\n",
      "Requirement already satisfied: wrapt in /usr/local/lib/python3.12/dist-packages (from smart-open>=1.8.1->gensim) (1.17.3)\n",
      "Downloading gensim-4.3.3-cp312-cp312-manylinux_2_17_x86_64.manylinux2014_x86_64.whl (26.6 MB)\n",
      "\u001b[2K   \u001b[90m━━━━━━━━━━━━━━━━━━━━━━━━━━━━━━━━━━━━━━━━\u001b[0m \u001b[32m26.6/26.6 MB\u001b[0m \u001b[31m81.6 MB/s\u001b[0m eta \u001b[36m0:00:00\u001b[0m\n",
      "\u001b[?25hDownloading numpy-1.26.4-cp312-cp312-manylinux_2_17_x86_64.manylinux2014_x86_64.whl (18.0 MB)\n",
      "\u001b[2K   \u001b[90m━━━━━━━━━━━━━━━━━━━━━━━━━━━━━━━━━━━━━━━━\u001b[0m \u001b[32m18.0/18.0 MB\u001b[0m \u001b[31m59.3 MB/s\u001b[0m eta \u001b[36m0:00:00\u001b[0m\n",
      "\u001b[?25hDownloading scipy-1.13.1-cp312-cp312-manylinux_2_17_x86_64.manylinux2014_x86_64.whl (38.2 MB)\n",
      "\u001b[2K   \u001b[90m━━━━━━━━━━━━━━━━━━━━━━━━━━━━━━━━━━━━━━━━\u001b[0m \u001b[32m38.2/38.2 MB\u001b[0m \u001b[31m13.4 MB/s\u001b[0m eta \u001b[36m0:00:00\u001b[0m\n",
      "\u001b[?25hInstalling collected packages: numpy, scipy, gensim\n",
      "  Attempting uninstall: numpy\n",
      "    Found existing installation: numpy 2.0.2\n",
      "    Uninstalling numpy-2.0.2:\n",
      "      Successfully uninstalled numpy-2.0.2\n",
      "  Attempting uninstall: scipy\n",
      "    Found existing installation: scipy 1.16.1\n",
      "    Uninstalling scipy-1.16.1:\n",
      "      Successfully uninstalled scipy-1.16.1\n",
      "\u001b[31mERROR: pip's dependency resolver does not currently take into account all the packages that are installed. This behaviour is the source of the following dependency conflicts.\n",
      "thinc 8.3.6 requires numpy<3.0.0,>=2.0.0, but you have numpy 1.26.4 which is incompatible.\n",
      "opencv-python-headless 4.12.0.88 requires numpy<2.3.0,>=2; python_version >= \"3.9\", but you have numpy 1.26.4 which is incompatible.\n",
      "opencv-python 4.12.0.88 requires numpy<2.3.0,>=2; python_version >= \"3.9\", but you have numpy 1.26.4 which is incompatible.\n",
      "tsfresh 0.21.1 requires scipy>=1.14.0; python_version >= \"3.10\", but you have scipy 1.13.1 which is incompatible.\n",
      "opencv-contrib-python 4.12.0.88 requires numpy<2.3.0,>=2; python_version >= \"3.9\", but you have numpy 1.26.4 which is incompatible.\u001b[0m\u001b[31m\n",
      "\u001b[0mSuccessfully installed gensim-4.3.3 numpy-1.26.4 scipy-1.13.1\n"
     ]
    },
    {
     "data": {
      "application/vnd.colab-display-data+json": {
       "id": "2ee84ef2eef747e38888189ca07dfe38",
       "pip_warning": {
        "packages": [
         "numpy"
        ]
       }
      }
     },
     "metadata": {},
     "output_type": "display_data"
    },
    {
     "ename": "ModuleNotFoundError",
     "evalue": "No module named 'numpy.rec'",
     "output_type": "error",
     "traceback": [
      "\u001b[0;31m---------------------------------------------------------------------------\u001b[0m",
      "\u001b[0;31mModuleNotFoundError\u001b[0m                       Traceback (most recent call last)",
      "\u001b[0;32m/tmp/ipython-input-3354638191.py\u001b[0m in \u001b[0;36m<cell line: 0>\u001b[0;34m()\u001b[0m\n\u001b[1;32m      1\u001b[0m \u001b[0mget_ipython\u001b[0m\u001b[0;34m(\u001b[0m\u001b[0;34m)\u001b[0m\u001b[0;34m.\u001b[0m\u001b[0mrun_line_magic\u001b[0m\u001b[0;34m(\u001b[0m\u001b[0;34m'pip'\u001b[0m\u001b[0;34m,\u001b[0m \u001b[0;34m'install gensim'\u001b[0m\u001b[0;34m)\u001b[0m\u001b[0;34m\u001b[0m\u001b[0;34m\u001b[0m\u001b[0m\n\u001b[0;32m----> 2\u001b[0;31m \u001b[0;32mfrom\u001b[0m \u001b[0mgensim\u001b[0m\u001b[0;34m.\u001b[0m\u001b[0mcorpora\u001b[0m \u001b[0;32mimport\u001b[0m \u001b[0mDictionary\u001b[0m\u001b[0;34m\u001b[0m\u001b[0;34m\u001b[0m\u001b[0m\n\u001b[0m",
      "\u001b[0;32m/usr/local/lib/python3.12/dist-packages/gensim/__init__.py\u001b[0m in \u001b[0;36m<module>\u001b[0;34m\u001b[0m\n\u001b[1;32m      9\u001b[0m \u001b[0;32mimport\u001b[0m \u001b[0mlogging\u001b[0m\u001b[0;34m\u001b[0m\u001b[0;34m\u001b[0m\u001b[0m\n\u001b[1;32m     10\u001b[0m \u001b[0;34m\u001b[0m\u001b[0m\n\u001b[0;32m---> 11\u001b[0;31m \u001b[0;32mfrom\u001b[0m \u001b[0mgensim\u001b[0m \u001b[0;32mimport\u001b[0m \u001b[0mparsing\u001b[0m\u001b[0;34m,\u001b[0m \u001b[0mcorpora\u001b[0m\u001b[0;34m,\u001b[0m \u001b[0mmatutils\u001b[0m\u001b[0;34m,\u001b[0m \u001b[0minterfaces\u001b[0m\u001b[0;34m,\u001b[0m \u001b[0mmodels\u001b[0m\u001b[0;34m,\u001b[0m \u001b[0msimilarities\u001b[0m\u001b[0;34m,\u001b[0m \u001b[0mutils\u001b[0m  \u001b[0;31m# noqa:F401\u001b[0m\u001b[0;34m\u001b[0m\u001b[0;34m\u001b[0m\u001b[0m\n\u001b[0m\u001b[1;32m     12\u001b[0m \u001b[0;34m\u001b[0m\u001b[0m\n\u001b[1;32m     13\u001b[0m \u001b[0;34m\u001b[0m\u001b[0m\n",
      "\u001b[0;32m/usr/local/lib/python3.12/dist-packages/gensim/parsing/__init__.py\u001b[0m in \u001b[0;36m<module>\u001b[0;34m\u001b[0m\n\u001b[1;32m      2\u001b[0m \u001b[0;34m\u001b[0m\u001b[0m\n\u001b[1;32m      3\u001b[0m \u001b[0;32mfrom\u001b[0m \u001b[0;34m.\u001b[0m\u001b[0mporter\u001b[0m \u001b[0;32mimport\u001b[0m \u001b[0mPorterStemmer\u001b[0m  \u001b[0;31m# noqa:F401\u001b[0m\u001b[0;34m\u001b[0m\u001b[0;34m\u001b[0m\u001b[0m\n\u001b[0;32m----> 4\u001b[0;31m from .preprocessing import (  # noqa:F401\n\u001b[0m\u001b[1;32m      5\u001b[0m     \u001b[0mpreprocess_documents\u001b[0m\u001b[0;34m,\u001b[0m\u001b[0;34m\u001b[0m\u001b[0;34m\u001b[0m\u001b[0m\n\u001b[1;32m      6\u001b[0m     \u001b[0mpreprocess_string\u001b[0m\u001b[0;34m,\u001b[0m\u001b[0;34m\u001b[0m\u001b[0;34m\u001b[0m\u001b[0m\n",
      "\u001b[0;32m/usr/local/lib/python3.12/dist-packages/gensim/parsing/preprocessing.py\u001b[0m in \u001b[0;36m<module>\u001b[0;34m\u001b[0m\n\u001b[1;32m     24\u001b[0m \u001b[0;32mimport\u001b[0m \u001b[0mglob\u001b[0m\u001b[0;34m\u001b[0m\u001b[0;34m\u001b[0m\u001b[0m\n\u001b[1;32m     25\u001b[0m \u001b[0;34m\u001b[0m\u001b[0m\n\u001b[0;32m---> 26\u001b[0;31m \u001b[0;32mfrom\u001b[0m \u001b[0mgensim\u001b[0m \u001b[0;32mimport\u001b[0m \u001b[0mutils\u001b[0m\u001b[0;34m\u001b[0m\u001b[0;34m\u001b[0m\u001b[0m\n\u001b[0m\u001b[1;32m     27\u001b[0m \u001b[0;32mfrom\u001b[0m \u001b[0mgensim\u001b[0m\u001b[0;34m.\u001b[0m\u001b[0mparsing\u001b[0m\u001b[0;34m.\u001b[0m\u001b[0mporter\u001b[0m \u001b[0;32mimport\u001b[0m \u001b[0mPorterStemmer\u001b[0m\u001b[0;34m\u001b[0m\u001b[0;34m\u001b[0m\u001b[0m\n\u001b[1;32m     28\u001b[0m \u001b[0;34m\u001b[0m\u001b[0m\n",
      "\u001b[0;32m/usr/local/lib/python3.12/dist-packages/gensim/utils.py\u001b[0m in \u001b[0;36m<module>\u001b[0;34m\u001b[0m\n\u001b[1;32m     33\u001b[0m \u001b[0;34m\u001b[0m\u001b[0m\n\u001b[1;32m     34\u001b[0m \u001b[0;32mimport\u001b[0m \u001b[0mnumpy\u001b[0m \u001b[0;32mas\u001b[0m \u001b[0mnp\u001b[0m\u001b[0;34m\u001b[0m\u001b[0;34m\u001b[0m\u001b[0m\n\u001b[0;32m---> 35\u001b[0;31m \u001b[0;32mimport\u001b[0m \u001b[0mscipy\u001b[0m\u001b[0;34m.\u001b[0m\u001b[0msparse\u001b[0m\u001b[0;34m\u001b[0m\u001b[0;34m\u001b[0m\u001b[0m\n\u001b[0m\u001b[1;32m     36\u001b[0m \u001b[0;32mfrom\u001b[0m \u001b[0msmart_open\u001b[0m \u001b[0;32mimport\u001b[0m \u001b[0mopen\u001b[0m\u001b[0;34m\u001b[0m\u001b[0;34m\u001b[0m\u001b[0m\n\u001b[1;32m     37\u001b[0m \u001b[0;34m\u001b[0m\u001b[0m\n",
      "\u001b[0;32m/usr/local/lib/python3.12/dist-packages/scipy/sparse/__init__.py\u001b[0m in \u001b[0;36m<module>\u001b[0;34m\u001b[0m\n\u001b[1;32m    292\u001b[0m \u001b[0;32mimport\u001b[0m \u001b[0mwarnings\u001b[0m \u001b[0;32mas\u001b[0m \u001b[0m_warnings\u001b[0m\u001b[0;34m\u001b[0m\u001b[0;34m\u001b[0m\u001b[0m\n\u001b[1;32m    293\u001b[0m \u001b[0;34m\u001b[0m\u001b[0m\n\u001b[0;32m--> 294\u001b[0;31m \u001b[0;32mfrom\u001b[0m \u001b[0;34m.\u001b[0m\u001b[0m_base\u001b[0m \u001b[0;32mimport\u001b[0m \u001b[0;34m*\u001b[0m\u001b[0;34m\u001b[0m\u001b[0;34m\u001b[0m\u001b[0m\n\u001b[0m\u001b[1;32m    295\u001b[0m \u001b[0;32mfrom\u001b[0m \u001b[0;34m.\u001b[0m\u001b[0m_csr\u001b[0m \u001b[0;32mimport\u001b[0m \u001b[0;34m*\u001b[0m\u001b[0;34m\u001b[0m\u001b[0;34m\u001b[0m\u001b[0m\n\u001b[1;32m    296\u001b[0m \u001b[0;32mfrom\u001b[0m \u001b[0;34m.\u001b[0m\u001b[0m_csc\u001b[0m \u001b[0;32mimport\u001b[0m \u001b[0;34m*\u001b[0m\u001b[0;34m\u001b[0m\u001b[0;34m\u001b[0m\u001b[0m\n",
      "\u001b[0;32m/usr/local/lib/python3.12/dist-packages/scipy/sparse/_base.py\u001b[0m in \u001b[0;36m<module>\u001b[0;34m\u001b[0m\n\u001b[1;32m      3\u001b[0m \u001b[0;34m\u001b[0m\u001b[0m\n\u001b[1;32m      4\u001b[0m \u001b[0;32mimport\u001b[0m \u001b[0mnumpy\u001b[0m \u001b[0;32mas\u001b[0m \u001b[0mnp\u001b[0m\u001b[0;34m\u001b[0m\u001b[0;34m\u001b[0m\u001b[0m\n\u001b[0;32m----> 5\u001b[0;31m \u001b[0;32mfrom\u001b[0m \u001b[0mscipy\u001b[0m\u001b[0;34m.\u001b[0m\u001b[0m_lib\u001b[0m\u001b[0;34m.\u001b[0m\u001b[0m_util\u001b[0m \u001b[0;32mimport\u001b[0m \u001b[0mVisibleDeprecationWarning\u001b[0m\u001b[0;34m\u001b[0m\u001b[0;34m\u001b[0m\u001b[0m\n\u001b[0m\u001b[1;32m      6\u001b[0m \u001b[0;34m\u001b[0m\u001b[0m\n\u001b[1;32m      7\u001b[0m from ._sputils import (asmatrix, check_reshape_kwargs, check_shape,\n",
      "\u001b[0;32m/usr/local/lib/python3.12/dist-packages/scipy/_lib/_util.py\u001b[0m in \u001b[0;36m<module>\u001b[0;34m\u001b[0m\n\u001b[1;32m     16\u001b[0m \u001b[0;34m\u001b[0m\u001b[0m\n\u001b[1;32m     17\u001b[0m \u001b[0;32mimport\u001b[0m \u001b[0mnumpy\u001b[0m \u001b[0;32mas\u001b[0m \u001b[0mnp\u001b[0m\u001b[0;34m\u001b[0m\u001b[0;34m\u001b[0m\u001b[0m\n\u001b[0;32m---> 18\u001b[0;31m \u001b[0;32mfrom\u001b[0m \u001b[0mscipy\u001b[0m\u001b[0;34m.\u001b[0m\u001b[0m_lib\u001b[0m\u001b[0;34m.\u001b[0m\u001b[0m_array_api\u001b[0m \u001b[0;32mimport\u001b[0m \u001b[0marray_namespace\u001b[0m\u001b[0;34m\u001b[0m\u001b[0;34m\u001b[0m\u001b[0m\n\u001b[0m\u001b[1;32m     19\u001b[0m \u001b[0;34m\u001b[0m\u001b[0m\n\u001b[1;32m     20\u001b[0m \u001b[0;34m\u001b[0m\u001b[0m\n",
      "\u001b[0;32m/usr/local/lib/python3.12/dist-packages/scipy/_lib/_array_api.py\u001b[0m in \u001b[0;36m<module>\u001b[0;34m\u001b[0m\n\u001b[1;32m     15\u001b[0m \u001b[0;34m\u001b[0m\u001b[0m\n\u001b[1;32m     16\u001b[0m \u001b[0;32mfrom\u001b[0m \u001b[0mscipy\u001b[0m\u001b[0;34m.\u001b[0m\u001b[0m_lib\u001b[0m \u001b[0;32mimport\u001b[0m \u001b[0marray_api_compat\u001b[0m\u001b[0;34m\u001b[0m\u001b[0;34m\u001b[0m\u001b[0m\n\u001b[0;32m---> 17\u001b[0;31m from scipy._lib.array_api_compat import (\n\u001b[0m\u001b[1;32m     18\u001b[0m     \u001b[0mis_array_api_obj\u001b[0m\u001b[0;34m,\u001b[0m\u001b[0;34m\u001b[0m\u001b[0;34m\u001b[0m\u001b[0m\n\u001b[1;32m     19\u001b[0m     \u001b[0msize\u001b[0m\u001b[0;34m,\u001b[0m\u001b[0;34m\u001b[0m\u001b[0;34m\u001b[0m\u001b[0m\n",
      "\u001b[0;32m/usr/local/lib/python3.12/dist-packages/scipy/_lib/array_api_compat/numpy/__init__.py\u001b[0m in \u001b[0;36m<module>\u001b[0;34m\u001b[0m\n\u001b[0;32m----> 1\u001b[0;31m \u001b[0;32mfrom\u001b[0m \u001b[0mnumpy\u001b[0m \u001b[0;32mimport\u001b[0m \u001b[0;34m*\u001b[0m\u001b[0;34m\u001b[0m\u001b[0;34m\u001b[0m\u001b[0m\n\u001b[0m\u001b[1;32m      2\u001b[0m \u001b[0;34m\u001b[0m\u001b[0m\n\u001b[1;32m      3\u001b[0m \u001b[0;31m# from numpy import * doesn't overwrite these builtin names\u001b[0m\u001b[0;34m\u001b[0m\u001b[0;34m\u001b[0m\u001b[0m\n\u001b[1;32m      4\u001b[0m \u001b[0;32mfrom\u001b[0m \u001b[0mnumpy\u001b[0m \u001b[0;32mimport\u001b[0m \u001b[0mabs\u001b[0m\u001b[0;34m,\u001b[0m \u001b[0mmax\u001b[0m\u001b[0;34m,\u001b[0m \u001b[0mmin\u001b[0m\u001b[0;34m,\u001b[0m \u001b[0mround\u001b[0m\u001b[0;34m\u001b[0m\u001b[0;34m\u001b[0m\u001b[0m\n\u001b[1;32m      5\u001b[0m \u001b[0;34m\u001b[0m\u001b[0m\n",
      "\u001b[0;32m/usr/local/lib/python3.12/dist-packages/numpy/__init__.py\u001b[0m in \u001b[0;36m__getattr__\u001b[0;34m(attr)\u001b[0m\n\u001b[1;32m    362\u001b[0m         \u001b[0;32mtry\u001b[0m\u001b[0;34m:\u001b[0m\u001b[0;34m\u001b[0m\u001b[0;34m\u001b[0m\u001b[0m\n\u001b[1;32m    363\u001b[0m             \u001b[0mx\u001b[0m \u001b[0;34m=\u001b[0m \u001b[0mones\u001b[0m\u001b[0;34m(\u001b[0m\u001b[0;36m2\u001b[0m\u001b[0;34m,\u001b[0m \u001b[0mdtype\u001b[0m\u001b[0;34m=\u001b[0m\u001b[0mfloat32\u001b[0m\u001b[0;34m)\u001b[0m\u001b[0;34m\u001b[0m\u001b[0;34m\u001b[0m\u001b[0m\n\u001b[0;32m--> 364\u001b[0;31m             \u001b[0;32mif\u001b[0m \u001b[0;32mnot\u001b[0m \u001b[0mabs\u001b[0m\u001b[0;34m(\u001b[0m\u001b[0mx\u001b[0m\u001b[0;34m.\u001b[0m\u001b[0mdot\u001b[0m\u001b[0;34m(\u001b[0m\u001b[0mx\u001b[0m\u001b[0;34m)\u001b[0m \u001b[0;34m-\u001b[0m \u001b[0mfloat32\u001b[0m\u001b[0;34m(\u001b[0m\u001b[0;36m2.0\u001b[0m\u001b[0;34m)\u001b[0m\u001b[0;34m)\u001b[0m \u001b[0;34m<\u001b[0m \u001b[0;36m1e-5\u001b[0m\u001b[0;34m:\u001b[0m\u001b[0;34m\u001b[0m\u001b[0;34m\u001b[0m\u001b[0m\n\u001b[0m\u001b[1;32m    365\u001b[0m                 \u001b[0;32mraise\u001b[0m \u001b[0mAssertionError\u001b[0m\u001b[0;34m(\u001b[0m\u001b[0;34m)\u001b[0m\u001b[0;34m\u001b[0m\u001b[0;34m\u001b[0m\u001b[0m\n\u001b[1;32m    366\u001b[0m         \u001b[0;32mexcept\u001b[0m \u001b[0mAssertionError\u001b[0m\u001b[0;34m:\u001b[0m\u001b[0;34m\u001b[0m\u001b[0;34m\u001b[0m\u001b[0m\n",
      "\u001b[0;31mModuleNotFoundError\u001b[0m: No module named 'numpy.rec'",
      "",
      "\u001b[0;31m---------------------------------------------------------------------------\u001b[0;32m\nNOTE: If your import is failing due to a missing package, you can\nmanually install dependencies using either !pip or !apt.\n\nTo view examples of installing some common dependencies, click the\n\"Open Examples\" button below.\n\u001b[0;31m---------------------------------------------------------------------------\u001b[0m\n"
     ]
    }
   ],
   "source": [
    "%pip install gensim\n",
    "from gensim.corpora import Dictionary"
   ]
  },
  {
   "cell_type": "code",
   "execution_count": 1,
   "metadata": {
    "executionInfo": {
     "elapsed": 2891,
     "status": "ok",
     "timestamp": 1758195492661,
     "user": {
      "displayName": "Rafsun Sheikh",
      "userId": "00661906799562681997"
     },
     "user_tz": -600
    },
    "id": "A75gkcjVfkYp"
   },
   "outputs": [],
   "source": [
    "import pandas as pd\n",
    "from gensim.corpora import Dictionary"
   ]
  },
  {
   "cell_type": "code",
   "execution_count": 2,
   "metadata": {
    "colab": {
     "base_uri": "https://localhost:8080/"
    },
    "executionInfo": {
     "elapsed": 27849,
     "status": "ok",
     "timestamp": 1758195524083,
     "user": {
      "displayName": "Rafsun Sheikh",
      "userId": "00661906799562681997"
     },
     "user_tz": -600
    },
    "id": "X9JMar6iXnfB",
    "outputId": "49afebe9-2794-4250-b4c6-8df460c62696"
   },
   "outputs": [
    {
     "name": "stdout",
     "output_type": "stream",
     "text": [
      "Mounted at /content/drive\n"
     ]
    }
   ],
   "source": [
    "from google.colab import drive\n",
    "drive.mount('/content/drive')"
   ]
  },
  {
   "cell_type": "markdown",
   "metadata": {
    "id": "PFqYudOHTAEW"
   },
   "source": [
    "### **Load the Dictionary and Corpus**"
   ]
  },
  {
   "cell_type": "code",
   "execution_count": 3,
   "metadata": {
    "colab": {
     "base_uri": "https://localhost:8080/"
    },
    "executionInfo": {
     "elapsed": 6048,
     "status": "ok",
     "timestamp": 1758195532247,
     "user": {
      "displayName": "Rafsun Sheikh",
      "userId": "00661906799562681997"
     },
     "user_tz": -600
    },
    "id": "2-MF0gbKgGXd",
    "outputId": "15597318-93be-4da0-921b-c15d06eadfdd"
   },
   "outputs": [
    {
     "name": "stdout",
     "output_type": "stream",
     "text": [
      "Corpus loaded successfully.\n",
      "Dictionary loaded successfully.\n"
     ]
    }
   ],
   "source": [
    "from gensim import corpora\n",
    "from gensim.corpora import Dictionary\n",
    "\n",
    "# Load the corpus from the .mm file\n",
    "corpus = corpora.MmCorpus('/content/drive/MyDrive/Colab Notebooks/alex/models/dictionary_and_corpus/corpus.mm')\n",
    "\n",
    "print(\"Corpus loaded successfully.\")\n",
    "# You can optionally print the corpus to inspect its structure\n",
    "# print(list(corpus))\n",
    "\n",
    "\n",
    "# Load the dictionary from the .dict file\n",
    "dictionary = Dictionary.load('/content/drive/MyDrive/Colab Notebooks/alex/models/dictionary_and_corpus/dictionary.gensim')\n",
    "\n",
    "print(\"Dictionary loaded successfully.\")\n",
    "# You can optionally print the dictionary to inspect its contents\n",
    "# print(dictionary.token2id)\n",
    "# print(dictionary.id2token)"
   ]
  },
  {
   "cell_type": "markdown",
   "metadata": {
    "id": "0-ZNeGYATHPL"
   },
   "source": [
    "### **Start The Training**"
   ]
  },
  {
   "cell_type": "code",
   "execution_count": 4,
   "metadata": {
    "executionInfo": {
     "elapsed": 833263,
     "status": "ok",
     "timestamp": 1758208060987,
     "user": {
      "displayName": "Rafsun Sheikh",
      "userId": "00661906799562681997"
     },
     "user_tz": -600
    },
    "id": "cCN_0WbeTKer"
   },
   "outputs": [],
   "source": [
    "import gensim\n",
    "# Creating the object for LDA model using gensim library\n",
    "LDA = gensim.models.ldamodel.LdaModel\n",
    "# Build LDA model\n",
    "lda_model_30_topics = LDA(corpus=corpus, id2word=dictionary, num_topics=30, random_state=100,\n",
    "                chunksize=1000, passes=25,iterations=50)"
   ]
  },
  {
   "cell_type": "markdown",
   "metadata": {
    "id": "HAKJZ2qaTLEV"
   },
   "source": [
    "### **Save the model**"
   ]
  },
  {
   "cell_type": "code",
   "execution_count": 5,
   "metadata": {
    "colab": {
     "base_uri": "https://localhost:8080/"
    },
    "executionInfo": {
     "elapsed": 47,
     "status": "ok",
     "timestamp": 1758208061046,
     "user": {
      "displayName": "Rafsun Sheikh",
      "userId": "00661906799562681997"
     },
     "user_tz": -600
    },
    "id": "ufO9kUyVTOdc",
    "outputId": "bf92f773-e173-4fcd-fa01-96c26d53fa5d"
   },
   "outputs": [
    {
     "data": {
      "text/plain": [
       "[(25,\n",
       "  '0.031*\"tournament\" + 0.027*\"seed\" + 0.025*\"final\" + 0.024*\"ncaa_tournament\" + 0.021*\"team\" + 0.019*\"round\" + 0.018*\"teams\" + 0.013*\"win\" + 0.012*\"march_madness\" + 0.012*\"south\"'),\n",
       " (3,\n",
       "  '0.024*\"st\" + 0.019*\"scored\" + 0.018*\"south\" + 0.012*\"win\" + 0.011*\"mississippi\" + 0.010*\"hall\" + 0.009*\"east\" + 0.008*\"beat\" + 0.008*\"lead\" + 0.008*\"tech\"'),\n",
       " (26,\n",
       "  '0.019*\"women\" + 0.016*\"record\" + 0.016*\"time\" + 0.014*\"won\" + 0.013*\"team\" + 0.011*\"final\" + 0.010*\"season\" + 0.010*\"win\" + 0.010*\"set\" + 0.009*\"championships\"'),\n",
       " (8,\n",
       "  '0.037*\"injury\" + 0.036*\"season\" + 0.021*\"injuries\" + 0.016*\"games\" + 0.015*\"left\" + 0.013*\"knee\" + 0.013*\"surgery\" + 0.013*\"return\" + 0.012*\"week\" + 0.012*\"betts\"'),\n",
       " (14,\n",
       "  '0.099*\"north\" + 0.044*\"tech\" + 0.042*\"acc\" + 0.041*\"williams\" + 0.029*\"tar_heels\" + 0.028*\"blue_devils\" + 0.026*\"terps\" + 0.021*\"unc\" + 0.019*\"terrapins\" + 0.017*\"spartans\"'),\n",
       " (1,\n",
       "  '0.030*\"nba\" + 0.021*\"league\" + 0.018*\"draft\" + 0.014*\"basketball\" + 0.013*\"player\" + 0.012*\"pick\" + 0.011*\"wnba\" + 0.011*\"star\" + 0.010*\"team\" + 0.009*\"players\"'),\n",
       " (7,\n",
       "  '0.017*\"golf\" + 0.013*\"united\" + 0.010*\"won\" + 0.010*\"round\" + 0.009*\"soccer\" + 0.009*\"world\" + 0.008*\"paris\" + 0.008*\"win\" + 0.008*\"cup\" + 0.007*\"championship\"'),\n",
       " (23,\n",
       "  '0.089*\"smith\" + 0.079*\"northwestern\" + 0.069*\"purdue\" + 0.060*\"wildcats\" + 0.052*\"sun_devils\" + 0.040*\"moore\" + 0.034*\"pac\" + 0.027*\"armour\" + 0.026*\"dakota\" + 0.023*\"boilermakers\"'),\n",
       " (16,\n",
       "  '0.032*\"hockey\" + 0.027*\"goals\" + 0.019*\"nhl\" + 0.018*\"goal\" + 0.017*\"boston\" + 0.015*\"games\" + 0.012*\"ice\" + 0.012*\"season\" + 0.010*\"bc\" + 0.009*\"flyers\"'),\n",
       " (28,\n",
       "  '0.106*\"gophers\" + 0.089*\"minnesota\" + 0.036*\"ten\" + 0.026*\"johnson\" + 0.021*\"staff\" + 0.012*\"season\" + 0.011*\"lynx\" + 0.010*\"team\" + 0.010*\"vikings\" + 0.009*\"startribune.com\"'),\n",
       " (4,\n",
       "  '0.010*\"people\" + 0.009*\"time\" + 0.007*\"day\" + 0.007*\"life\" + 0.006*\"told\" + 0.006*\"fans\" + 0.005*\"family\" + 0.005*\"basketball\" + 0.004*\"home\" + 0.004*\"love\"'),\n",
       " (18,\n",
       "  '0.025*\"conference\" + 0.023*\"teams\" + 0.022*\"season\" + 0.020*\"games\" + 0.018*\"sec\" + 0.016*\"team\" + 0.016*\"top\" + 0.016*\"win\" + 0.015*\"ten\" + 0.012*\"week\"'),\n",
       " (19,\n",
       "  '0.037*\"season\" + 0.025*\"guard\" + 0.016*\"rebounds\" + 0.015*\"player\" + 0.015*\"team\" + 0.013*\"forward\" + 0.012*\"freshman\" + 0.012*\"assists\" + 0.012*\"clark\" + 0.011*\"scoring\"'),\n",
       " (13,\n",
       "  '0.029*\"sports\" + 0.027*\"espn\" + 0.026*\"tv\" + 0.023*\"network\" + 0.020*\"watch\" + 0.020*\"usa\" + 0.017*\"cbs\" + 0.015*\"live\" + 0.013*\"media\" + 0.013*\"games\"'),\n",
       " (29,\n",
       "  '0.122*\"indiana\" + 0.065*\"gonzaga\" + 0.061*\"miller\" + 0.052*\"calipari\" + 0.030*\"bulldogs\" + 0.029*\"memphis\" + 0.028*\"knight\" + 0.025*\"butler\" + 0.024*\"hoosiers\" + 0.022*\"sampson\"'),\n",
       " (12,\n",
       "  '0.054*\"school\" + 0.022*\"college\" + 0.013*\"basketball\" + 0.012*\"team\" + 0.011*\"played\" + 0.011*\"university\" + 0.010*\"division\" + 0.009*\"player\" + 0.008*\"family\" + 0.008*\"class\"'),\n",
       " (15,\n",
       "  '0.077*\"photo\" + 0.041*\"ap\" + 0.040*\"caption\" + 0.040*\"tribune\" + 0.037*\"thomas\" + 0.035*\"davis\" + 0.031*\"irish\" + 0.029*\"loyola\" + 0.026*\"jackson\" + 0.025*\"collins\"'),\n",
       " (17,\n",
       "  '0.175*\"p.m\" + 0.058*\"espn\" + 0.050*\"march\" + 0.034*\"saturday\" + 0.032*\"friday\" + 0.028*\"winner\" + 0.021*\"schedule\" + 0.020*\"sunday\" + 0.018*\"thursday\" + 0.015*\"a.m\"'),\n",
       " (24,\n",
       "  '0.022*\"half\" + 0.017*\"lead\" + 0.015*\"minutes\" + 0.013*\"shot\" + 0.012*\"left\" + 0.011*\"scored\" + 0.010*\"play\" + 0.010*\"win\" + 0.010*\"ball\" + 0.010*\"quarter\"'),\n",
       " (2,\n",
       "  '0.016*\"schools\" + 0.016*\"ncaa\" + 0.015*\"athletes\" + 0.014*\"sports\" + 0.012*\"million\" + 0.010*\"school\" + 0.010*\"university\" + 0.009*\"money\" + 0.009*\"football\" + 0.008*\"college_sports\"')]"
      ]
     },
     "execution_count": 5,
     "metadata": {},
     "output_type": "execute_result"
    }
   ],
   "source": [
    "lda_model_30_topics.print_topics()"
   ]
  },
  {
   "cell_type": "code",
   "execution_count": 6,
   "metadata": {
    "executionInfo": {
     "elapsed": 4320,
     "status": "ok",
     "timestamp": 1758208065377,
     "user": {
      "displayName": "Rafsun Sheikh",
      "userId": "00661906799562681997"
     },
     "user_tz": -600
    },
    "id": "cXdmeH8pckGY"
   },
   "outputs": [],
   "source": [
    "import os\n",
    "\n",
    "save_dir = \"/content/drive/MyDrive/Colab Notebooks/alex/models/lda_30_topics\"\n",
    "os.makedirs(save_dir, exist_ok=True)\n",
    "\n",
    "# Save the LDA model\n",
    "lda_model_30_topics.save(os.path.join(save_dir, \"lda_model_30_topics.gensim\"))"
   ]
  },
  {
   "cell_type": "code",
   "execution_count": 7,
   "metadata": {
    "colab": {
     "base_uri": "https://localhost:8080/"
    },
    "executionInfo": {
     "elapsed": 32459,
     "status": "ok",
     "timestamp": 1758208097844,
     "user": {
      "displayName": "Rafsun Sheikh",
      "userId": "00661906799562681997"
     },
     "user_tz": -600
    },
    "id": "Gmhr6MywnCMG",
    "outputId": "96cb34ea-689a-471d-f97a-d9ed2bce1c9e"
   },
   "outputs": [
    {
     "name": "stdout",
     "output_type": "stream",
     "text": [
      "Loaded 149649 documents from /content/drive/MyDrive/Colab Notebooks/alex/models/dictionary_and_corpus/texts.json\n"
     ]
    }
   ],
   "source": [
    "import json\n",
    "from gensim.models import LdaModel, CoherenceModel\n",
    "\n",
    "# Assuming your JSON file contains a list of lists, where each inner list is a tokenized document\n",
    "# Replace '/content/drive/MyDrive/path/to/your/texts.json' with the actual path to your JSON file\n",
    "texts_file_path = '/content/drive/MyDrive/Colab Notebooks/alex/models/dictionary_and_corpus/texts.json'\n",
    "\n",
    "with open(texts_file_path, 'r') as f:\n",
    "    texts = json.load(f)\n",
    "\n",
    "print(f\"Loaded {len(texts)} documents from {texts_file_path}\")"
   ]
  },
  {
   "cell_type": "code",
   "execution_count": 8,
   "metadata": {
    "colab": {
     "base_uri": "https://localhost:8080/"
    },
    "executionInfo": {
     "elapsed": 2395038,
     "status": "ok",
     "timestamp": 1758210492925,
     "user": {
      "displayName": "Rafsun Sheikh",
      "userId": "00661906799562681997"
     },
     "user_tz": -600
    },
    "id": "XXO-vWp6Y8i0",
    "outputId": "88b0a790-6eab-47b0-e80b-55d3ade443b6"
   },
   "outputs": [
    {
     "name": "stdout",
     "output_type": "stream",
     "text": [
      "Coherence (c_v): 0.5273489963216754\n"
     ]
    }
   ],
   "source": [
    "# 7) Coherence (optional but recommended for model selection)\n",
    "cm = CoherenceModel(model=lda_model_30_topics, texts=texts, dictionary=dictionary, coherence='c_v')\n",
    "coherence = cm.get_coherence()\n",
    "print(\"Coherence (c_v):\", coherence)"
   ]
  },
  {
   "cell_type": "markdown",
   "metadata": {},
   "source": [
    "##### **© 2024–2025 MD Rafsun Sheikh**\n",
    "##### **Licensed under the Apache License, Version 2.0.**"
   ]
  }
 ],
 "metadata": {
  "colab": {
   "authorship_tag": "ABX9TyPf9wrWiAureSs8OIywpI3E",
   "provenance": [
    {
     "file_id": "1wLTdD6e2I1ZxLtNWe1buezz1OnIlvToL",
     "timestamp": 1756033452035
    },
    {
     "file_id": "1mFz5TGnTXRnRyk8VaeJQhWsIRz9nvmul",
     "timestamp": 1756033356622
    },
    {
     "file_id": "1Lp3cbJiS2vCgnhvYh6ulq_2ENstOaJWY",
     "timestamp": 1756028424303
    }
   ]
  },
  "kernelspec": {
   "display_name": "Python 3",
   "name": "python3"
  },
  "language_info": {
   "name": "python"
  }
 },
 "nbformat": 4,
 "nbformat_minor": 0
}
