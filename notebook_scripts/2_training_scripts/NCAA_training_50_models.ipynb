{
 "cells": [
  {
   "cell_type": "code",
   "execution_count": 1,
   "metadata": {
    "colab": {
     "base_uri": "https://localhost:8080/",
     "height": 1000
    },
    "executionInfo": {
     "elapsed": 27593,
     "status": "error",
     "timestamp": 1758257485109,
     "user": {
      "displayName": "Rafsun Sheikh",
      "userId": "00661906799562681997"
     },
     "user_tz": -600
    },
    "id": "A2Kx4dwiYEMl",
    "outputId": "9a9b3e40-52b5-4449-8262-e2cebe7401d7"
   },
   "outputs": [
    {
     "name": "stdout",
     "output_type": "stream",
     "text": [
      "Collecting gensim\n",
      "  Downloading gensim-4.3.3-cp312-cp312-manylinux_2_17_x86_64.manylinux2014_x86_64.whl.metadata (8.1 kB)\n",
      "Collecting numpy<2.0,>=1.18.5 (from gensim)\n",
      "  Downloading numpy-1.26.4-cp312-cp312-manylinux_2_17_x86_64.manylinux2014_x86_64.whl.metadata (61 kB)\n",
      "\u001b[2K     \u001b[90m━━━━━━━━━━━━━━━━━━━━━━━━━━━━━━━━━━━━━━━━\u001b[0m \u001b[32m61.0/61.0 kB\u001b[0m \u001b[31m2.5 MB/s\u001b[0m eta \u001b[36m0:00:00\u001b[0m\n",
      "\u001b[?25hCollecting scipy<1.14.0,>=1.7.0 (from gensim)\n",
      "  Downloading scipy-1.13.1-cp312-cp312-manylinux_2_17_x86_64.manylinux2014_x86_64.whl.metadata (60 kB)\n",
      "\u001b[2K     \u001b[90m━━━━━━━━━━━━━━━━━━━━━━━━━━━━━━━━━━━━━━━━\u001b[0m \u001b[32m60.6/60.6 kB\u001b[0m \u001b[31m4.2 MB/s\u001b[0m eta \u001b[36m0:00:00\u001b[0m\n",
      "\u001b[?25hRequirement already satisfied: smart-open>=1.8.1 in /usr/local/lib/python3.12/dist-packages (from gensim) (7.3.1)\n",
      "Requirement already satisfied: wrapt in /usr/local/lib/python3.12/dist-packages (from smart-open>=1.8.1->gensim) (1.17.3)\n",
      "Downloading gensim-4.3.3-cp312-cp312-manylinux_2_17_x86_64.manylinux2014_x86_64.whl (26.6 MB)\n",
      "\u001b[2K   \u001b[90m━━━━━━━━━━━━━━━━━━━━━━━━━━━━━━━━━━━━━━━━\u001b[0m \u001b[32m26.6/26.6 MB\u001b[0m \u001b[31m45.8 MB/s\u001b[0m eta \u001b[36m0:00:00\u001b[0m\n",
      "\u001b[?25hDownloading numpy-1.26.4-cp312-cp312-manylinux_2_17_x86_64.manylinux2014_x86_64.whl (18.0 MB)\n",
      "\u001b[2K   \u001b[90m━━━━━━━━━━━━━━━━━━━━━━━━━━━━━━━━━━━━━━━━\u001b[0m \u001b[32m18.0/18.0 MB\u001b[0m \u001b[31m45.7 MB/s\u001b[0m eta \u001b[36m0:00:00\u001b[0m\n",
      "\u001b[?25hDownloading scipy-1.13.1-cp312-cp312-manylinux_2_17_x86_64.manylinux2014_x86_64.whl (38.2 MB)\n",
      "\u001b[2K   \u001b[90m━━━━━━━━━━━━━━━━━━━━━━━━━━━━━━━━━━━━━━━━\u001b[0m \u001b[32m38.2/38.2 MB\u001b[0m \u001b[31m13.3 MB/s\u001b[0m eta \u001b[36m0:00:00\u001b[0m\n",
      "\u001b[?25hInstalling collected packages: numpy, scipy, gensim\n",
      "  Attempting uninstall: numpy\n",
      "    Found existing installation: numpy 2.0.2\n",
      "    Uninstalling numpy-2.0.2:\n",
      "      Successfully uninstalled numpy-2.0.2\n",
      "  Attempting uninstall: scipy\n",
      "    Found existing installation: scipy 1.16.1\n",
      "    Uninstalling scipy-1.16.1:\n",
      "      Successfully uninstalled scipy-1.16.1\n",
      "\u001b[31mERROR: pip's dependency resolver does not currently take into account all the packages that are installed. This behaviour is the source of the following dependency conflicts.\n",
      "thinc 8.3.6 requires numpy<3.0.0,>=2.0.0, but you have numpy 1.26.4 which is incompatible.\n",
      "opencv-python-headless 4.12.0.88 requires numpy<2.3.0,>=2; python_version >= \"3.9\", but you have numpy 1.26.4 which is incompatible.\n",
      "opencv-python 4.12.0.88 requires numpy<2.3.0,>=2; python_version >= \"3.9\", but you have numpy 1.26.4 which is incompatible.\n",
      "tsfresh 0.21.1 requires scipy>=1.14.0; python_version >= \"3.10\", but you have scipy 1.13.1 which is incompatible.\n",
      "opencv-contrib-python 4.12.0.88 requires numpy<2.3.0,>=2; python_version >= \"3.9\", but you have numpy 1.26.4 which is incompatible.\u001b[0m\u001b[31m\n",
      "\u001b[0mSuccessfully installed gensim-4.3.3 numpy-1.26.4 scipy-1.13.1\n"
     ]
    },
    {
     "data": {
      "application/vnd.colab-display-data+json": {
       "id": "e65831d6e7074912b4327587d5710762",
       "pip_warning": {
        "packages": [
         "numpy"
        ]
       }
      }
     },
     "metadata": {},
     "output_type": "display_data"
    },
    {
     "ename": "ModuleNotFoundError",
     "evalue": "No module named 'numpy.char'",
     "output_type": "error",
     "traceback": [
      "\u001b[0;31m---------------------------------------------------------------------------\u001b[0m",
      "\u001b[0;31mModuleNotFoundError\u001b[0m                       Traceback (most recent call last)",
      "\u001b[0;32m/tmp/ipython-input-3354638191.py\u001b[0m in \u001b[0;36m<cell line: 0>\u001b[0;34m()\u001b[0m\n\u001b[1;32m      1\u001b[0m \u001b[0mget_ipython\u001b[0m\u001b[0;34m(\u001b[0m\u001b[0;34m)\u001b[0m\u001b[0;34m.\u001b[0m\u001b[0mrun_line_magic\u001b[0m\u001b[0;34m(\u001b[0m\u001b[0;34m'pip'\u001b[0m\u001b[0;34m,\u001b[0m \u001b[0;34m'install gensim'\u001b[0m\u001b[0;34m)\u001b[0m\u001b[0;34m\u001b[0m\u001b[0;34m\u001b[0m\u001b[0m\n\u001b[0;32m----> 2\u001b[0;31m \u001b[0;32mfrom\u001b[0m \u001b[0mgensim\u001b[0m\u001b[0;34m.\u001b[0m\u001b[0mcorpora\u001b[0m \u001b[0;32mimport\u001b[0m \u001b[0mDictionary\u001b[0m\u001b[0;34m\u001b[0m\u001b[0;34m\u001b[0m\u001b[0m\n\u001b[0m",
      "\u001b[0;32m/usr/local/lib/python3.12/dist-packages/gensim/__init__.py\u001b[0m in \u001b[0;36m<module>\u001b[0;34m\u001b[0m\n\u001b[1;32m      9\u001b[0m \u001b[0;32mimport\u001b[0m \u001b[0mlogging\u001b[0m\u001b[0;34m\u001b[0m\u001b[0;34m\u001b[0m\u001b[0m\n\u001b[1;32m     10\u001b[0m \u001b[0;34m\u001b[0m\u001b[0m\n\u001b[0;32m---> 11\u001b[0;31m \u001b[0;32mfrom\u001b[0m \u001b[0mgensim\u001b[0m \u001b[0;32mimport\u001b[0m \u001b[0mparsing\u001b[0m\u001b[0;34m,\u001b[0m \u001b[0mcorpora\u001b[0m\u001b[0;34m,\u001b[0m \u001b[0mmatutils\u001b[0m\u001b[0;34m,\u001b[0m \u001b[0minterfaces\u001b[0m\u001b[0;34m,\u001b[0m \u001b[0mmodels\u001b[0m\u001b[0;34m,\u001b[0m \u001b[0msimilarities\u001b[0m\u001b[0;34m,\u001b[0m \u001b[0mutils\u001b[0m  \u001b[0;31m# noqa:F401\u001b[0m\u001b[0;34m\u001b[0m\u001b[0;34m\u001b[0m\u001b[0m\n\u001b[0m\u001b[1;32m     12\u001b[0m \u001b[0;34m\u001b[0m\u001b[0m\n\u001b[1;32m     13\u001b[0m \u001b[0;34m\u001b[0m\u001b[0m\n",
      "\u001b[0;32m/usr/local/lib/python3.12/dist-packages/gensim/parsing/__init__.py\u001b[0m in \u001b[0;36m<module>\u001b[0;34m\u001b[0m\n\u001b[1;32m      2\u001b[0m \u001b[0;34m\u001b[0m\u001b[0m\n\u001b[1;32m      3\u001b[0m \u001b[0;32mfrom\u001b[0m \u001b[0;34m.\u001b[0m\u001b[0mporter\u001b[0m \u001b[0;32mimport\u001b[0m \u001b[0mPorterStemmer\u001b[0m  \u001b[0;31m# noqa:F401\u001b[0m\u001b[0;34m\u001b[0m\u001b[0;34m\u001b[0m\u001b[0m\n\u001b[0;32m----> 4\u001b[0;31m from .preprocessing import (  # noqa:F401\n\u001b[0m\u001b[1;32m      5\u001b[0m     \u001b[0mpreprocess_documents\u001b[0m\u001b[0;34m,\u001b[0m\u001b[0;34m\u001b[0m\u001b[0;34m\u001b[0m\u001b[0m\n\u001b[1;32m      6\u001b[0m     \u001b[0mpreprocess_string\u001b[0m\u001b[0;34m,\u001b[0m\u001b[0;34m\u001b[0m\u001b[0;34m\u001b[0m\u001b[0m\n",
      "\u001b[0;32m/usr/local/lib/python3.12/dist-packages/gensim/parsing/preprocessing.py\u001b[0m in \u001b[0;36m<module>\u001b[0;34m\u001b[0m\n\u001b[1;32m     24\u001b[0m \u001b[0;32mimport\u001b[0m \u001b[0mglob\u001b[0m\u001b[0;34m\u001b[0m\u001b[0;34m\u001b[0m\u001b[0m\n\u001b[1;32m     25\u001b[0m \u001b[0;34m\u001b[0m\u001b[0m\n\u001b[0;32m---> 26\u001b[0;31m \u001b[0;32mfrom\u001b[0m \u001b[0mgensim\u001b[0m \u001b[0;32mimport\u001b[0m \u001b[0mutils\u001b[0m\u001b[0;34m\u001b[0m\u001b[0;34m\u001b[0m\u001b[0m\n\u001b[0m\u001b[1;32m     27\u001b[0m \u001b[0;32mfrom\u001b[0m \u001b[0mgensim\u001b[0m\u001b[0;34m.\u001b[0m\u001b[0mparsing\u001b[0m\u001b[0;34m.\u001b[0m\u001b[0mporter\u001b[0m \u001b[0;32mimport\u001b[0m \u001b[0mPorterStemmer\u001b[0m\u001b[0;34m\u001b[0m\u001b[0;34m\u001b[0m\u001b[0m\n\u001b[1;32m     28\u001b[0m \u001b[0;34m\u001b[0m\u001b[0m\n",
      "\u001b[0;32m/usr/local/lib/python3.12/dist-packages/gensim/utils.py\u001b[0m in \u001b[0;36m<module>\u001b[0;34m\u001b[0m\n\u001b[1;32m     33\u001b[0m \u001b[0;34m\u001b[0m\u001b[0m\n\u001b[1;32m     34\u001b[0m \u001b[0;32mimport\u001b[0m \u001b[0mnumpy\u001b[0m \u001b[0;32mas\u001b[0m \u001b[0mnp\u001b[0m\u001b[0;34m\u001b[0m\u001b[0;34m\u001b[0m\u001b[0m\n\u001b[0;32m---> 35\u001b[0;31m \u001b[0;32mimport\u001b[0m \u001b[0mscipy\u001b[0m\u001b[0;34m.\u001b[0m\u001b[0msparse\u001b[0m\u001b[0;34m\u001b[0m\u001b[0;34m\u001b[0m\u001b[0m\n\u001b[0m\u001b[1;32m     36\u001b[0m \u001b[0;32mfrom\u001b[0m \u001b[0msmart_open\u001b[0m \u001b[0;32mimport\u001b[0m \u001b[0mopen\u001b[0m\u001b[0;34m\u001b[0m\u001b[0;34m\u001b[0m\u001b[0m\n\u001b[1;32m     37\u001b[0m \u001b[0;34m\u001b[0m\u001b[0m\n",
      "\u001b[0;32m/usr/local/lib/python3.12/dist-packages/scipy/sparse/__init__.py\u001b[0m in \u001b[0;36m<module>\u001b[0;34m\u001b[0m\n\u001b[1;32m    292\u001b[0m \u001b[0;32mimport\u001b[0m \u001b[0mwarnings\u001b[0m \u001b[0;32mas\u001b[0m \u001b[0m_warnings\u001b[0m\u001b[0;34m\u001b[0m\u001b[0;34m\u001b[0m\u001b[0m\n\u001b[1;32m    293\u001b[0m \u001b[0;34m\u001b[0m\u001b[0m\n\u001b[0;32m--> 294\u001b[0;31m \u001b[0;32mfrom\u001b[0m \u001b[0;34m.\u001b[0m\u001b[0m_base\u001b[0m \u001b[0;32mimport\u001b[0m \u001b[0;34m*\u001b[0m\u001b[0;34m\u001b[0m\u001b[0;34m\u001b[0m\u001b[0m\n\u001b[0m\u001b[1;32m    295\u001b[0m \u001b[0;32mfrom\u001b[0m \u001b[0;34m.\u001b[0m\u001b[0m_csr\u001b[0m \u001b[0;32mimport\u001b[0m \u001b[0;34m*\u001b[0m\u001b[0;34m\u001b[0m\u001b[0;34m\u001b[0m\u001b[0m\n\u001b[1;32m    296\u001b[0m \u001b[0;32mfrom\u001b[0m \u001b[0;34m.\u001b[0m\u001b[0m_csc\u001b[0m \u001b[0;32mimport\u001b[0m \u001b[0;34m*\u001b[0m\u001b[0;34m\u001b[0m\u001b[0;34m\u001b[0m\u001b[0m\n",
      "\u001b[0;32m/usr/local/lib/python3.12/dist-packages/scipy/sparse/_base.py\u001b[0m in \u001b[0;36m<module>\u001b[0;34m\u001b[0m\n\u001b[1;32m      3\u001b[0m \u001b[0;34m\u001b[0m\u001b[0m\n\u001b[1;32m      4\u001b[0m \u001b[0;32mimport\u001b[0m \u001b[0mnumpy\u001b[0m \u001b[0;32mas\u001b[0m \u001b[0mnp\u001b[0m\u001b[0;34m\u001b[0m\u001b[0;34m\u001b[0m\u001b[0m\n\u001b[0;32m----> 5\u001b[0;31m \u001b[0;32mfrom\u001b[0m \u001b[0mscipy\u001b[0m\u001b[0;34m.\u001b[0m\u001b[0m_lib\u001b[0m\u001b[0;34m.\u001b[0m\u001b[0m_util\u001b[0m \u001b[0;32mimport\u001b[0m \u001b[0mVisibleDeprecationWarning\u001b[0m\u001b[0;34m\u001b[0m\u001b[0;34m\u001b[0m\u001b[0m\n\u001b[0m\u001b[1;32m      6\u001b[0m \u001b[0;34m\u001b[0m\u001b[0m\n\u001b[1;32m      7\u001b[0m from ._sputils import (asmatrix, check_reshape_kwargs, check_shape,\n",
      "\u001b[0;32m/usr/local/lib/python3.12/dist-packages/scipy/_lib/_util.py\u001b[0m in \u001b[0;36m<module>\u001b[0;34m\u001b[0m\n\u001b[1;32m     16\u001b[0m \u001b[0;34m\u001b[0m\u001b[0m\n\u001b[1;32m     17\u001b[0m \u001b[0;32mimport\u001b[0m \u001b[0mnumpy\u001b[0m \u001b[0;32mas\u001b[0m \u001b[0mnp\u001b[0m\u001b[0;34m\u001b[0m\u001b[0;34m\u001b[0m\u001b[0m\n\u001b[0;32m---> 18\u001b[0;31m \u001b[0;32mfrom\u001b[0m \u001b[0mscipy\u001b[0m\u001b[0;34m.\u001b[0m\u001b[0m_lib\u001b[0m\u001b[0;34m.\u001b[0m\u001b[0m_array_api\u001b[0m \u001b[0;32mimport\u001b[0m \u001b[0marray_namespace\u001b[0m\u001b[0;34m\u001b[0m\u001b[0;34m\u001b[0m\u001b[0m\n\u001b[0m\u001b[1;32m     19\u001b[0m \u001b[0;34m\u001b[0m\u001b[0m\n\u001b[1;32m     20\u001b[0m \u001b[0;34m\u001b[0m\u001b[0m\n",
      "\u001b[0;32m/usr/local/lib/python3.12/dist-packages/scipy/_lib/_array_api.py\u001b[0m in \u001b[0;36m<module>\u001b[0;34m\u001b[0m\n\u001b[1;32m     15\u001b[0m \u001b[0;34m\u001b[0m\u001b[0m\n\u001b[1;32m     16\u001b[0m \u001b[0;32mfrom\u001b[0m \u001b[0mscipy\u001b[0m\u001b[0;34m.\u001b[0m\u001b[0m_lib\u001b[0m \u001b[0;32mimport\u001b[0m \u001b[0marray_api_compat\u001b[0m\u001b[0;34m\u001b[0m\u001b[0;34m\u001b[0m\u001b[0m\n\u001b[0;32m---> 17\u001b[0;31m from scipy._lib.array_api_compat import (\n\u001b[0m\u001b[1;32m     18\u001b[0m     \u001b[0mis_array_api_obj\u001b[0m\u001b[0;34m,\u001b[0m\u001b[0;34m\u001b[0m\u001b[0;34m\u001b[0m\u001b[0m\n\u001b[1;32m     19\u001b[0m     \u001b[0msize\u001b[0m\u001b[0;34m,\u001b[0m\u001b[0;34m\u001b[0m\u001b[0;34m\u001b[0m\u001b[0m\n",
      "\u001b[0;32m/usr/local/lib/python3.12/dist-packages/scipy/_lib/array_api_compat/numpy/__init__.py\u001b[0m in \u001b[0;36m<module>\u001b[0;34m\u001b[0m\n\u001b[0;32m----> 1\u001b[0;31m \u001b[0;32mfrom\u001b[0m \u001b[0mnumpy\u001b[0m \u001b[0;32mimport\u001b[0m \u001b[0;34m*\u001b[0m\u001b[0;34m\u001b[0m\u001b[0;34m\u001b[0m\u001b[0m\n\u001b[0m\u001b[1;32m      2\u001b[0m \u001b[0;34m\u001b[0m\u001b[0m\n\u001b[1;32m      3\u001b[0m \u001b[0;31m# from numpy import * doesn't overwrite these builtin names\u001b[0m\u001b[0;34m\u001b[0m\u001b[0;34m\u001b[0m\u001b[0m\n\u001b[1;32m      4\u001b[0m \u001b[0;32mfrom\u001b[0m \u001b[0mnumpy\u001b[0m \u001b[0;32mimport\u001b[0m \u001b[0mabs\u001b[0m\u001b[0;34m,\u001b[0m \u001b[0mmax\u001b[0m\u001b[0;34m,\u001b[0m \u001b[0mmin\u001b[0m\u001b[0;34m,\u001b[0m \u001b[0mround\u001b[0m\u001b[0;34m\u001b[0m\u001b[0;34m\u001b[0m\u001b[0m\n\u001b[1;32m      5\u001b[0m \u001b[0;34m\u001b[0m\u001b[0m\n",
      "\u001b[0;32m/usr/local/lib/python3.12/dist-packages/numpy/__init__.py\u001b[0m in \u001b[0;36m__getattr__\u001b[0;34m(attr)\u001b[0m\n\u001b[1;32m    365\u001b[0m                 \u001b[0;32mraise\u001b[0m \u001b[0mAssertionError\u001b[0m\u001b[0;34m(\u001b[0m\u001b[0;34m)\u001b[0m\u001b[0;34m\u001b[0m\u001b[0;34m\u001b[0m\u001b[0m\n\u001b[1;32m    366\u001b[0m         \u001b[0;32mexcept\u001b[0m \u001b[0mAssertionError\u001b[0m\u001b[0;34m:\u001b[0m\u001b[0;34m\u001b[0m\u001b[0;34m\u001b[0m\u001b[0m\n\u001b[0;32m--> 367\u001b[0;31m             msg = (\"The current Numpy installation ({!r}) fails to \"\n\u001b[0m\u001b[1;32m    368\u001b[0m                    \u001b[0;34m\"pass simple sanity checks. This can be caused for example \"\u001b[0m\u001b[0;34m\u001b[0m\u001b[0;34m\u001b[0m\u001b[0m\n\u001b[1;32m    369\u001b[0m                    \u001b[0;34m\"by incorrect BLAS library being linked in, or by mixing \"\u001b[0m\u001b[0;34m\u001b[0m\u001b[0;34m\u001b[0m\u001b[0m\n",
      "\u001b[0;31mModuleNotFoundError\u001b[0m: No module named 'numpy.char'",
      "",
      "\u001b[0;31m---------------------------------------------------------------------------\u001b[0;32m\nNOTE: If your import is failing due to a missing package, you can\nmanually install dependencies using either !pip or !apt.\n\nTo view examples of installing some common dependencies, click the\n\"Open Examples\" button below.\n\u001b[0;31m---------------------------------------------------------------------------\u001b[0m\n"
     ]
    }
   ],
   "source": [
    "%pip install gensim\n",
    "from gensim.corpora import Dictionary"
   ]
  },
  {
   "cell_type": "code",
   "execution_count": 1,
   "metadata": {
    "executionInfo": {
     "elapsed": 2705,
     "status": "ok",
     "timestamp": 1758257543836,
     "user": {
      "displayName": "Rafsun Sheikh",
      "userId": "00661906799562681997"
     },
     "user_tz": -600
    },
    "id": "A75gkcjVfkYp"
   },
   "outputs": [],
   "source": [
    "import pandas as pd\n",
    "from gensim.corpora import Dictionary"
   ]
  },
  {
   "cell_type": "code",
   "execution_count": 2,
   "metadata": {
    "colab": {
     "base_uri": "https://localhost:8080/"
    },
    "executionInfo": {
     "elapsed": 35230,
     "status": "ok",
     "timestamp": 1758257597681,
     "user": {
      "displayName": "Rafsun Sheikh",
      "userId": "00661906799562681997"
     },
     "user_tz": -600
    },
    "id": "X9JMar6iXnfB",
    "outputId": "0cc6713b-68a7-45e5-8699-0dabeb5d701b"
   },
   "outputs": [
    {
     "name": "stdout",
     "output_type": "stream",
     "text": [
      "Mounted at /content/drive\n"
     ]
    }
   ],
   "source": [
    "from google.colab import drive\n",
    "drive.mount('/content/drive')"
   ]
  },
  {
   "cell_type": "markdown",
   "metadata": {
    "id": "PFqYudOHTAEW"
   },
   "source": [
    "### **Load the Dictionary and Corpus**"
   ]
  },
  {
   "cell_type": "code",
   "execution_count": 3,
   "metadata": {
    "colab": {
     "base_uri": "https://localhost:8080/"
    },
    "executionInfo": {
     "elapsed": 6417,
     "status": "ok",
     "timestamp": 1758257631263,
     "user": {
      "displayName": "Rafsun Sheikh",
      "userId": "00661906799562681997"
     },
     "user_tz": -600
    },
    "id": "2-MF0gbKgGXd",
    "outputId": "0efa5161-b993-4856-a25d-0789d4c84d81"
   },
   "outputs": [
    {
     "name": "stdout",
     "output_type": "stream",
     "text": [
      "Corpus loaded successfully.\n",
      "Dictionary loaded successfully.\n"
     ]
    }
   ],
   "source": [
    "from gensim import corpora\n",
    "from gensim.corpora import Dictionary\n",
    "\n",
    "# Load the corpus from the .mm file\n",
    "corpus = corpora.MmCorpus('/content/drive/MyDrive/Colab Notebooks/alex/models/dictionary_and_corpus/corpus.mm')\n",
    "\n",
    "print(\"Corpus loaded successfully.\")\n",
    "# You can optionally print the corpus to inspect its structure\n",
    "# print(list(corpus))\n",
    "\n",
    "\n",
    "# Load the dictionary from the .dict file\n",
    "dictionary = Dictionary.load('/content/drive/MyDrive/Colab Notebooks/alex/models/dictionary_and_corpus/dictionary.gensim')\n",
    "\n",
    "print(\"Dictionary loaded successfully.\")\n",
    "# You can optionally print the dictionary to inspect its contents\n",
    "# print(dictionary.token2id)\n",
    "# print(dictionary.id2token)"
   ]
  },
  {
   "cell_type": "markdown",
   "metadata": {
    "id": "0-ZNeGYATHPL"
   },
   "source": [
    "### **Start The Training**"
   ]
  },
  {
   "cell_type": "code",
   "execution_count": 4,
   "metadata": {
    "executionInfo": {
     "elapsed": 17090380,
     "status": "ok",
     "timestamp": 1758274721642,
     "user": {
      "displayName": "Rafsun Sheikh",
      "userId": "00661906799562681997"
     },
     "user_tz": -600
    },
    "id": "cCN_0WbeTKer"
   },
   "outputs": [],
   "source": [
    "import gensim\n",
    "# Creating the object for LDA model using gensim library\n",
    "LDA = gensim.models.ldamodel.LdaModel\n",
    "# Build LDA model\n",
    "lda_model_50_topics = LDA(corpus=corpus, id2word=dictionary, num_topics=50, random_state=100,\n",
    "                chunksize=1000, passes=25,iterations=50)"
   ]
  },
  {
   "cell_type": "markdown",
   "metadata": {
    "id": "HAKJZ2qaTLEV"
   },
   "source": [
    "### **Save the model**"
   ]
  },
  {
   "cell_type": "code",
   "execution_count": 5,
   "metadata": {
    "colab": {
     "base_uri": "https://localhost:8080/"
    },
    "executionInfo": {
     "elapsed": 53,
     "status": "ok",
     "timestamp": 1758274721691,
     "user": {
      "displayName": "Rafsun Sheikh",
      "userId": "00661906799562681997"
     },
     "user_tz": -600
    },
    "id": "ufO9kUyVTOdc",
    "outputId": "0eafb339-6d07-4073-dea4-fb03811cba5f"
   },
   "outputs": [
    {
     "data": {
      "text/plain": [
       "[(35,\n",
       "  '0.013*\"president\" + 0.011*\"law\" + 0.010*\"people\" + 0.008*\"federal\" + 0.008*\"health\" + 0.008*\"bill\" + 0.007*\"rights\" + 0.006*\"public\" + 0.006*\"united\" + 0.005*\"laws\"'),\n",
       " (36,\n",
       "  '0.034*\"yards\" + 0.029*\"quarterback\" + 0.016*\"football\" + 0.013*\"field\" + 0.013*\"season\" + 0.013*\"defensive\" + 0.012*\"touchdowns\" + 0.012*\"yard\" + 0.011*\"nfl\" + 0.011*\"running\"'),\n",
       " (0,\n",
       "  '0.050*\"school\" + 0.024*\"players\" + 0.016*\"college\" + 0.015*\"recruiting\" + 0.014*\"transfer\" + 0.013*\"season\" + 0.011*\"play\" + 0.011*\"schools\" + 0.011*\"class\" + 0.010*\"eligibility\"'),\n",
       " (16,\n",
       "  '0.076*\"nba\" + 0.038*\"basketball\" + 0.021*\"league\" + 0.017*\"celtics\" + 0.017*\"lakers\" + 0.015*\"bulls\" + 0.014*\"star\" + 0.011*\"professional\" + 0.011*\"james\" + 0.010*\"knicks\"'),\n",
       " (19,\n",
       "  '0.026*\"watkins\" + 0.017*\"vegas\" + 0.017*\"usf\" + 0.016*\"thomas\" + 0.013*\"pt\" + 0.012*\"location\" + 0.012*\"mendoza\" + 0.012*\"ft\" + 0.011*\"rebels\" + 0.011*\"harris\"'),\n",
       " (48,\n",
       "  '0.037*\"goals\" + 0.034*\"hockey\" + 0.025*\"goal\" + 0.014*\"net\" + 0.014*\"ice\" + 0.014*\"nhl\" + 0.013*\"play\" + 0.012*\"games\" + 0.012*\"season\" + 0.010*\"period\"'),\n",
       " (49,\n",
       "  '0.018*\"lacrosse\" + 0.015*\"st\" + 0.013*\"goals\" + 0.013*\"island\" + 0.009*\"navy\" + 0.008*\"stony_brook\" + 0.007*\"hofstra\" + 0.007*\"wagner\" + 0.007*\"senior\" + 0.007*\"county\"'),\n",
       " (6,\n",
       "  '0.151*\"wnba\" + 0.057*\"staley\" + 0.050*\"liberty\" + 0.047*\"gators\" + 0.047*\"fever\" + 0.044*\"howard\" + 0.044*\"cooper\" + 0.042*\"sky\" + 0.032*\"indiana\" + 0.029*\"donovan\"'),\n",
       " (27,\n",
       "  '0.061*\"nil\" + 0.041*\"black\" + 0.022*\"white\" + 0.011*\"american\" + 0.008*\"wilson\" + 0.008*\"prince\" + 0.007*\"music\" + 0.007*\"belichick\" + 0.007*\"york\" + 0.007*\"sox\"'),\n",
       " (30,\n",
       "  '0.034*\"conference\" + 0.022*\"ncaa\" + 0.020*\"teams\" + 0.020*\"league\" + 0.014*\"committee\" + 0.011*\"conferences\" + 0.011*\"commissioner\" + 0.011*\"ten\" + 0.009*\"rules\" + 0.009*\"decision\"'),\n",
       " (25,\n",
       "  '0.041*\"tournament\" + 0.039*\"seed\" + 0.029*\"ncaa_tournament\" + 0.029*\"final\" + 0.026*\"round\" + 0.022*\"teams\" + 0.022*\"team\" + 0.017*\"march_madness\" + 0.016*\"sweet\" + 0.014*\"tournaments\"'),\n",
       " (18,\n",
       "  '0.162*\"north\" + 0.069*\"tech\" + 0.068*\"acc\" + 0.061*\"williams\" + 0.043*\"tar_heels\" + 0.042*\"blue_devils\" + 0.038*\"terps\" + 0.032*\"unc\" + 0.025*\"terrapins\" + 0.024*\"def\"'),\n",
       " (7,\n",
       "  '0.025*\"united\" + 0.017*\"soccer\" + 0.015*\"paris\" + 0.011*\"world\" + 0.011*\"tokyo\" + 0.011*\"world_cup\" + 0.010*\"cup\" + 0.008*\"international\" + 0.008*\"france\" + 0.008*\"won\"'),\n",
       " (5,\n",
       "  '0.024*\"league\" + 0.020*\"nfl\" + 0.018*\"season\" + 0.014*\"million\" + 0.013*\"contract\" + 0.013*\"team\" + 0.011*\"games\" + 0.010*\"signed\" + 0.009*\"deal\" + 0.008*\"manager\"'),\n",
       " (44,\n",
       "  '0.024*\"half\" + 0.016*\"minutes\" + 0.015*\"shot\" + 0.014*\"lead\" + 0.013*\"left\" + 0.012*\"ball\" + 0.011*\"play\" + 0.010*\"team\" + 0.010*\"shots\" + 0.009*\"shooting\"'),\n",
       " (4,\n",
       "  '0.027*\"team\" + 0.022*\"players\" + 0.019*\"lot\" + 0.019*\"time\" + 0.017*\"play\" + 0.013*\"playing\" + 0.010*\"coach\" + 0.010*\"guys\" + 0.009*\"people\" + 0.008*\"feel\"'),\n",
       " (20,\n",
       "  '0.062*\"sanders\" + 0.046*\"volleyball\" + 0.028*\"beach\" + 0.025*\"byu\" + 0.024*\"wac\" + 0.023*\"mexico\" + 0.023*\"set\" + 0.022*\"match\" + 0.022*\"boise\" + 0.022*\"san_jose\"'),\n",
       " (2,\n",
       "  '0.025*\"athletes\" + 0.024*\"schools\" + 0.021*\"ncaa\" + 0.017*\"million\" + 0.017*\"university\" + 0.015*\"sports\" + 0.015*\"school\" + 0.014*\"money\" + 0.014*\"college_sports\" + 0.013*\"football\"'),\n",
       " (38,\n",
       "  '0.066*\"boston\" + 0.046*\"globe\" + 0.034*\"maine\" + 0.032*\"massachusetts\" + 0.024*\"ivy_league\" + 0.019*\"dartmouth\" + 0.017*\"reached\" + 0.017*\"globe.com\" + 0.016*\"vermont\" + 0.014*\"division\"'),\n",
       " (11,\n",
       "  '0.033*\"baseball\" + 0.019*\"softball\" + 0.017*\"innings\" + 0.016*\"college_world_series\" + 0.015*\"hit\" + 0.015*\"inning\" + 0.015*\"regional\" + 0.013*\"run\" + 0.012*\"field\" + 0.012*\"pitcher\"')]"
      ]
     },
     "execution_count": 5,
     "metadata": {},
     "output_type": "execute_result"
    }
   ],
   "source": [
    "lda_model_50_topics.print_topics()"
   ]
  },
  {
   "cell_type": "code",
   "execution_count": 6,
   "metadata": {
    "executionInfo": {
     "elapsed": 8644,
     "status": "ok",
     "timestamp": 1758274730354,
     "user": {
      "displayName": "Rafsun Sheikh",
      "userId": "00661906799562681997"
     },
     "user_tz": -600
    },
    "id": "cXdmeH8pckGY"
   },
   "outputs": [],
   "source": [
    "import os\n",
    "\n",
    "save_dir = \"/content/drive/MyDrive/Colab Notebooks/alex/models/lda_50_topics\"\n",
    "os.makedirs(save_dir, exist_ok=True)\n",
    "\n",
    "# Save the LDA model\n",
    "lda_model_50_topics.save(os.path.join(save_dir, \"lda_model_50_topics.gensim\"))"
   ]
  },
  {
   "cell_type": "code",
   "execution_count": 7,
   "metadata": {
    "colab": {
     "base_uri": "https://localhost:8080/"
    },
    "executionInfo": {
     "elapsed": 35653,
     "status": "ok",
     "timestamp": 1758274766012,
     "user": {
      "displayName": "Rafsun Sheikh",
      "userId": "00661906799562681997"
     },
     "user_tz": -600
    },
    "id": "zjgXCGhhnOF6",
    "outputId": "ecb3f584-f4c6-4e4e-94c9-84fc06e6d2a1"
   },
   "outputs": [
    {
     "name": "stdout",
     "output_type": "stream",
     "text": [
      "Loaded 149649 documents from /content/drive/MyDrive/Colab Notebooks/alex/models/dictionary_and_corpus/texts.json\n"
     ]
    }
   ],
   "source": [
    "import json\n",
    "from gensim.models import LdaModel, CoherenceModel\n",
    "\n",
    "# Assuming your JSON file contains a list of lists, where each inner list is a tokenized document\n",
    "# Replace '/content/drive/MyDrive/path/to/your/texts.json' with the actual path to your JSON file\n",
    "texts_file_path = '/content/drive/MyDrive/Colab Notebooks/alex/models/dictionary_and_corpus/texts.json'\n",
    "\n",
    "with open(texts_file_path, 'r') as f:\n",
    "    texts = json.load(f)\n",
    "\n",
    "print(f\"Loaded {len(texts)} documents from {texts_file_path}\")"
   ]
  },
  {
   "cell_type": "code",
   "execution_count": 8,
   "metadata": {
    "colab": {
     "base_uri": "https://localhost:8080/"
    },
    "executionInfo": {
     "elapsed": 4850167,
     "status": "ok",
     "timestamp": 1758279616155,
     "user": {
      "displayName": "Rafsun Sheikh",
      "userId": "00661906799562681997"
     },
     "user_tz": -600
    },
    "id": "Vz5U7x1oZ13O",
    "outputId": "1e2a4da0-25b5-4a83-c0f7-ce269528455c"
   },
   "outputs": [
    {
     "name": "stdout",
     "output_type": "stream",
     "text": [
      "Coherence (c_v): 0.5423197352306434\n"
     ]
    }
   ],
   "source": [
    "# 7) Coherence (optional but recommended for model selection)\n",
    "cm = CoherenceModel(model=lda_model_50_topics, texts=texts, dictionary=dictionary, coherence='c_v')\n",
    "coherence = cm.get_coherence()\n",
    "print(\"Coherence (c_v):\", coherence)"
   ]
  },
  {
   "cell_type": "markdown",
   "metadata": {},
   "source": [
    "##### **© 2024–2025 MD Rafsun Sheikh**\n",
    "##### **Licensed under the Apache License, Version 2.0.**"
   ]
  }
 ],
 "metadata": {
  "colab": {
   "authorship_tag": "ABX9TyPDIK/EQH/jj/WkX0BfSxu6",
   "provenance": [
    {
     "file_id": "1CwZ7kOBAwRUq3isxfFlz_JwEnznhrG53",
     "timestamp": 1756124696599
    },
    {
     "file_id": "1D6ykXbSKqzwudF5t3q0XLD7oUUc1xm8c",
     "timestamp": 1756124655906
    },
    {
     "file_id": "14UIi2-YxZVqrl2AoVuAEnGqDRxuK8n4g",
     "timestamp": 1756124603422
    },
    {
     "file_id": "18Yo1coOOjrSSgPlDe_K99R1CWvqWMIzZ",
     "timestamp": 1756033521019
    },
    {
     "file_id": "1wLTdD6e2I1ZxLtNWe1buezz1OnIlvToL",
     "timestamp": 1756033452035
    },
    {
     "file_id": "1mFz5TGnTXRnRyk8VaeJQhWsIRz9nvmul",
     "timestamp": 1756033356622
    },
    {
     "file_id": "1Lp3cbJiS2vCgnhvYh6ulq_2ENstOaJWY",
     "timestamp": 1756028424303
    }
   ]
  },
  "kernelspec": {
   "display_name": "Python 3",
   "name": "python3"
  },
  "language_info": {
   "name": "python"
  }
 },
 "nbformat": 4,
 "nbformat_minor": 0
}
