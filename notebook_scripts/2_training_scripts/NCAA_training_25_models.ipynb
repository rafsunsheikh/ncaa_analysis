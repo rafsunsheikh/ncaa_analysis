{
 "cells": [
  {
   "cell_type": "code",
   "execution_count": 1,
   "metadata": {
    "colab": {
     "base_uri": "https://localhost:8080/",
     "height": 1000
    },
    "executionInfo": {
     "elapsed": 27858,
     "status": "error",
     "timestamp": 1758229168045,
     "user": {
      "displayName": "Rafsun Sheikh",
      "userId": "00661906799562681997"
     },
     "user_tz": -600
    },
    "id": "A2Kx4dwiYEMl",
    "outputId": "359e672a-b339-4f56-cb83-bc611219d486"
   },
   "outputs": [
    {
     "name": "stdout",
     "output_type": "stream",
     "text": [
      "Collecting gensim\n",
      "  Downloading gensim-4.3.3-cp312-cp312-manylinux_2_17_x86_64.manylinux2014_x86_64.whl.metadata (8.1 kB)\n",
      "Collecting numpy<2.0,>=1.18.5 (from gensim)\n",
      "  Downloading numpy-1.26.4-cp312-cp312-manylinux_2_17_x86_64.manylinux2014_x86_64.whl.metadata (61 kB)\n",
      "\u001b[2K     \u001b[90m━━━━━━━━━━━━━━━━━━━━━━━━━━━━━━━━━━━━━━━━\u001b[0m \u001b[32m61.0/61.0 kB\u001b[0m \u001b[31m4.8 MB/s\u001b[0m eta \u001b[36m0:00:00\u001b[0m\n",
      "\u001b[?25hCollecting scipy<1.14.0,>=1.7.0 (from gensim)\n",
      "  Downloading scipy-1.13.1-cp312-cp312-manylinux_2_17_x86_64.manylinux2014_x86_64.whl.metadata (60 kB)\n",
      "\u001b[2K     \u001b[90m━━━━━━━━━━━━━━━━━━━━━━━━━━━━━━━━━━━━━━━━\u001b[0m \u001b[32m60.6/60.6 kB\u001b[0m \u001b[31m3.1 MB/s\u001b[0m eta \u001b[36m0:00:00\u001b[0m\n",
      "\u001b[?25hRequirement already satisfied: smart-open>=1.8.1 in /usr/local/lib/python3.12/dist-packages (from gensim) (7.3.1)\n",
      "Requirement already satisfied: wrapt in /usr/local/lib/python3.12/dist-packages (from smart-open>=1.8.1->gensim) (1.17.3)\n",
      "Downloading gensim-4.3.3-cp312-cp312-manylinux_2_17_x86_64.manylinux2014_x86_64.whl (26.6 MB)\n",
      "\u001b[2K   \u001b[90m━━━━━━━━━━━━━━━━━━━━━━━━━━━━━━━━━━━━━━━━\u001b[0m \u001b[32m26.6/26.6 MB\u001b[0m \u001b[31m65.5 MB/s\u001b[0m eta \u001b[36m0:00:00\u001b[0m\n",
      "\u001b[?25hDownloading numpy-1.26.4-cp312-cp312-manylinux_2_17_x86_64.manylinux2014_x86_64.whl (18.0 MB)\n",
      "\u001b[2K   \u001b[90m━━━━━━━━━━━━━━━━━━━━━━━━━━━━━━━━━━━━━━━━\u001b[0m \u001b[32m18.0/18.0 MB\u001b[0m \u001b[31m94.5 MB/s\u001b[0m eta \u001b[36m0:00:00\u001b[0m\n",
      "\u001b[?25hDownloading scipy-1.13.1-cp312-cp312-manylinux_2_17_x86_64.manylinux2014_x86_64.whl (38.2 MB)\n",
      "\u001b[2K   \u001b[90m━━━━━━━━━━━━━━━━━━━━━━━━━━━━━━━━━━━━━━━━\u001b[0m \u001b[32m38.2/38.2 MB\u001b[0m \u001b[31m15.8 MB/s\u001b[0m eta \u001b[36m0:00:00\u001b[0m\n",
      "\u001b[?25hInstalling collected packages: numpy, scipy, gensim\n",
      "  Attempting uninstall: numpy\n",
      "    Found existing installation: numpy 2.0.2\n",
      "    Uninstalling numpy-2.0.2:\n",
      "      Successfully uninstalled numpy-2.0.2\n",
      "  Attempting uninstall: scipy\n",
      "    Found existing installation: scipy 1.16.1\n",
      "    Uninstalling scipy-1.16.1:\n",
      "      Successfully uninstalled scipy-1.16.1\n",
      "\u001b[31mERROR: pip's dependency resolver does not currently take into account all the packages that are installed. This behaviour is the source of the following dependency conflicts.\n",
      "thinc 8.3.6 requires numpy<3.0.0,>=2.0.0, but you have numpy 1.26.4 which is incompatible.\n",
      "opencv-python-headless 4.12.0.88 requires numpy<2.3.0,>=2; python_version >= \"3.9\", but you have numpy 1.26.4 which is incompatible.\n",
      "opencv-python 4.12.0.88 requires numpy<2.3.0,>=2; python_version >= \"3.9\", but you have numpy 1.26.4 which is incompatible.\n",
      "tsfresh 0.21.1 requires scipy>=1.14.0; python_version >= \"3.10\", but you have scipy 1.13.1 which is incompatible.\n",
      "opencv-contrib-python 4.12.0.88 requires numpy<2.3.0,>=2; python_version >= \"3.9\", but you have numpy 1.26.4 which is incompatible.\u001b[0m\u001b[31m\n",
      "\u001b[0mSuccessfully installed gensim-4.3.3 numpy-1.26.4 scipy-1.13.1\n"
     ]
    },
    {
     "data": {
      "application/vnd.colab-display-data+json": {
       "id": "7f17903013e4483992435856db677e14",
       "pip_warning": {
        "packages": [
         "numpy"
        ]
       }
      }
     },
     "metadata": {},
     "output_type": "display_data"
    },
    {
     "ename": "ValueError",
     "evalue": "numpy.dtype size changed, may indicate binary incompatibility. Expected 96 from C header, got 88 from PyObject",
     "output_type": "error",
     "traceback": [
      "\u001b[0;31m---------------------------------------------------------------------------\u001b[0m",
      "\u001b[0;31mValueError\u001b[0m                                Traceback (most recent call last)",
      "\u001b[0;32m/tmp/ipython-input-3354638191.py\u001b[0m in \u001b[0;36m<cell line: 0>\u001b[0;34m()\u001b[0m\n\u001b[1;32m      1\u001b[0m \u001b[0mget_ipython\u001b[0m\u001b[0;34m(\u001b[0m\u001b[0;34m)\u001b[0m\u001b[0;34m.\u001b[0m\u001b[0mrun_line_magic\u001b[0m\u001b[0;34m(\u001b[0m\u001b[0;34m'pip'\u001b[0m\u001b[0;34m,\u001b[0m \u001b[0;34m'install gensim'\u001b[0m\u001b[0;34m)\u001b[0m\u001b[0;34m\u001b[0m\u001b[0;34m\u001b[0m\u001b[0m\n\u001b[0;32m----> 2\u001b[0;31m \u001b[0;32mfrom\u001b[0m \u001b[0mgensim\u001b[0m\u001b[0;34m.\u001b[0m\u001b[0mcorpora\u001b[0m \u001b[0;32mimport\u001b[0m \u001b[0mDictionary\u001b[0m\u001b[0;34m\u001b[0m\u001b[0;34m\u001b[0m\u001b[0m\n\u001b[0m",
      "\u001b[0;32m/usr/local/lib/python3.12/dist-packages/gensim/__init__.py\u001b[0m in \u001b[0;36m<module>\u001b[0;34m\u001b[0m\n\u001b[1;32m      9\u001b[0m \u001b[0;32mimport\u001b[0m \u001b[0mlogging\u001b[0m\u001b[0;34m\u001b[0m\u001b[0;34m\u001b[0m\u001b[0m\n\u001b[1;32m     10\u001b[0m \u001b[0;34m\u001b[0m\u001b[0m\n\u001b[0;32m---> 11\u001b[0;31m \u001b[0;32mfrom\u001b[0m \u001b[0mgensim\u001b[0m \u001b[0;32mimport\u001b[0m \u001b[0mparsing\u001b[0m\u001b[0;34m,\u001b[0m \u001b[0mcorpora\u001b[0m\u001b[0;34m,\u001b[0m \u001b[0mmatutils\u001b[0m\u001b[0;34m,\u001b[0m \u001b[0minterfaces\u001b[0m\u001b[0;34m,\u001b[0m \u001b[0mmodels\u001b[0m\u001b[0;34m,\u001b[0m \u001b[0msimilarities\u001b[0m\u001b[0;34m,\u001b[0m \u001b[0mutils\u001b[0m  \u001b[0;31m# noqa:F401\u001b[0m\u001b[0;34m\u001b[0m\u001b[0;34m\u001b[0m\u001b[0m\n\u001b[0m\u001b[1;32m     12\u001b[0m \u001b[0;34m\u001b[0m\u001b[0m\n\u001b[1;32m     13\u001b[0m \u001b[0;34m\u001b[0m\u001b[0m\n",
      "\u001b[0;32m/usr/local/lib/python3.12/dist-packages/gensim/parsing/__init__.py\u001b[0m in \u001b[0;36m<module>\u001b[0;34m\u001b[0m\n\u001b[1;32m      2\u001b[0m \u001b[0;34m\u001b[0m\u001b[0m\n\u001b[1;32m      3\u001b[0m \u001b[0;32mfrom\u001b[0m \u001b[0;34m.\u001b[0m\u001b[0mporter\u001b[0m \u001b[0;32mimport\u001b[0m \u001b[0mPorterStemmer\u001b[0m  \u001b[0;31m# noqa:F401\u001b[0m\u001b[0;34m\u001b[0m\u001b[0;34m\u001b[0m\u001b[0m\n\u001b[0;32m----> 4\u001b[0;31m from .preprocessing import (  # noqa:F401\n\u001b[0m\u001b[1;32m      5\u001b[0m     \u001b[0mpreprocess_documents\u001b[0m\u001b[0;34m,\u001b[0m\u001b[0;34m\u001b[0m\u001b[0;34m\u001b[0m\u001b[0m\n\u001b[1;32m      6\u001b[0m     \u001b[0mpreprocess_string\u001b[0m\u001b[0;34m,\u001b[0m\u001b[0;34m\u001b[0m\u001b[0;34m\u001b[0m\u001b[0m\n",
      "\u001b[0;32m/usr/local/lib/python3.12/dist-packages/gensim/parsing/preprocessing.py\u001b[0m in \u001b[0;36m<module>\u001b[0;34m\u001b[0m\n\u001b[1;32m     24\u001b[0m \u001b[0;32mimport\u001b[0m \u001b[0mglob\u001b[0m\u001b[0;34m\u001b[0m\u001b[0;34m\u001b[0m\u001b[0m\n\u001b[1;32m     25\u001b[0m \u001b[0;34m\u001b[0m\u001b[0m\n\u001b[0;32m---> 26\u001b[0;31m \u001b[0;32mfrom\u001b[0m \u001b[0mgensim\u001b[0m \u001b[0;32mimport\u001b[0m \u001b[0mutils\u001b[0m\u001b[0;34m\u001b[0m\u001b[0;34m\u001b[0m\u001b[0m\n\u001b[0m\u001b[1;32m     27\u001b[0m \u001b[0;32mfrom\u001b[0m \u001b[0mgensim\u001b[0m\u001b[0;34m.\u001b[0m\u001b[0mparsing\u001b[0m\u001b[0;34m.\u001b[0m\u001b[0mporter\u001b[0m \u001b[0;32mimport\u001b[0m \u001b[0mPorterStemmer\u001b[0m\u001b[0;34m\u001b[0m\u001b[0;34m\u001b[0m\u001b[0m\n\u001b[1;32m     28\u001b[0m \u001b[0;34m\u001b[0m\u001b[0m\n",
      "\u001b[0;32m/usr/local/lib/python3.12/dist-packages/gensim/utils.py\u001b[0m in \u001b[0;36m<module>\u001b[0;34m\u001b[0m\n\u001b[1;32m     33\u001b[0m \u001b[0;34m\u001b[0m\u001b[0m\n\u001b[1;32m     34\u001b[0m \u001b[0;32mimport\u001b[0m \u001b[0mnumpy\u001b[0m \u001b[0;32mas\u001b[0m \u001b[0mnp\u001b[0m\u001b[0;34m\u001b[0m\u001b[0;34m\u001b[0m\u001b[0m\n\u001b[0;32m---> 35\u001b[0;31m \u001b[0;32mimport\u001b[0m \u001b[0mscipy\u001b[0m\u001b[0;34m.\u001b[0m\u001b[0msparse\u001b[0m\u001b[0;34m\u001b[0m\u001b[0;34m\u001b[0m\u001b[0m\n\u001b[0m\u001b[1;32m     36\u001b[0m \u001b[0;32mfrom\u001b[0m \u001b[0msmart_open\u001b[0m \u001b[0;32mimport\u001b[0m \u001b[0mopen\u001b[0m\u001b[0;34m\u001b[0m\u001b[0;34m\u001b[0m\u001b[0m\n\u001b[1;32m     37\u001b[0m \u001b[0;34m\u001b[0m\u001b[0m\n",
      "\u001b[0;32m/usr/local/lib/python3.12/dist-packages/scipy/sparse/__init__.py\u001b[0m in \u001b[0;36m<module>\u001b[0;34m\u001b[0m\n\u001b[1;32m    292\u001b[0m \u001b[0;32mimport\u001b[0m \u001b[0mwarnings\u001b[0m \u001b[0;32mas\u001b[0m \u001b[0m_warnings\u001b[0m\u001b[0;34m\u001b[0m\u001b[0;34m\u001b[0m\u001b[0m\n\u001b[1;32m    293\u001b[0m \u001b[0;34m\u001b[0m\u001b[0m\n\u001b[0;32m--> 294\u001b[0;31m \u001b[0;32mfrom\u001b[0m \u001b[0;34m.\u001b[0m\u001b[0m_base\u001b[0m \u001b[0;32mimport\u001b[0m \u001b[0;34m*\u001b[0m\u001b[0;34m\u001b[0m\u001b[0;34m\u001b[0m\u001b[0m\n\u001b[0m\u001b[1;32m    295\u001b[0m \u001b[0;32mfrom\u001b[0m \u001b[0;34m.\u001b[0m\u001b[0m_csr\u001b[0m \u001b[0;32mimport\u001b[0m \u001b[0;34m*\u001b[0m\u001b[0;34m\u001b[0m\u001b[0;34m\u001b[0m\u001b[0m\n\u001b[1;32m    296\u001b[0m \u001b[0;32mfrom\u001b[0m \u001b[0;34m.\u001b[0m\u001b[0m_csc\u001b[0m \u001b[0;32mimport\u001b[0m \u001b[0;34m*\u001b[0m\u001b[0;34m\u001b[0m\u001b[0;34m\u001b[0m\u001b[0m\n",
      "\u001b[0;32m/usr/local/lib/python3.12/dist-packages/scipy/sparse/_base.py\u001b[0m in \u001b[0;36m<module>\u001b[0;34m\u001b[0m\n\u001b[1;32m      3\u001b[0m \u001b[0;34m\u001b[0m\u001b[0m\n\u001b[1;32m      4\u001b[0m \u001b[0;32mimport\u001b[0m \u001b[0mnumpy\u001b[0m \u001b[0;32mas\u001b[0m \u001b[0mnp\u001b[0m\u001b[0;34m\u001b[0m\u001b[0;34m\u001b[0m\u001b[0m\n\u001b[0;32m----> 5\u001b[0;31m \u001b[0;32mfrom\u001b[0m \u001b[0mscipy\u001b[0m\u001b[0;34m.\u001b[0m\u001b[0m_lib\u001b[0m\u001b[0;34m.\u001b[0m\u001b[0m_util\u001b[0m \u001b[0;32mimport\u001b[0m \u001b[0mVisibleDeprecationWarning\u001b[0m\u001b[0;34m\u001b[0m\u001b[0;34m\u001b[0m\u001b[0m\n\u001b[0m\u001b[1;32m      6\u001b[0m \u001b[0;34m\u001b[0m\u001b[0m\n\u001b[1;32m      7\u001b[0m from ._sputils import (asmatrix, check_reshape_kwargs, check_shape,\n",
      "\u001b[0;32m/usr/local/lib/python3.12/dist-packages/scipy/_lib/_util.py\u001b[0m in \u001b[0;36m<module>\u001b[0;34m\u001b[0m\n\u001b[1;32m     16\u001b[0m \u001b[0;34m\u001b[0m\u001b[0m\n\u001b[1;32m     17\u001b[0m \u001b[0;32mimport\u001b[0m \u001b[0mnumpy\u001b[0m \u001b[0;32mas\u001b[0m \u001b[0mnp\u001b[0m\u001b[0;34m\u001b[0m\u001b[0;34m\u001b[0m\u001b[0m\n\u001b[0;32m---> 18\u001b[0;31m \u001b[0;32mfrom\u001b[0m \u001b[0mscipy\u001b[0m\u001b[0;34m.\u001b[0m\u001b[0m_lib\u001b[0m\u001b[0;34m.\u001b[0m\u001b[0m_array_api\u001b[0m \u001b[0;32mimport\u001b[0m \u001b[0marray_namespace\u001b[0m\u001b[0;34m\u001b[0m\u001b[0;34m\u001b[0m\u001b[0m\n\u001b[0m\u001b[1;32m     19\u001b[0m \u001b[0;34m\u001b[0m\u001b[0m\n\u001b[1;32m     20\u001b[0m \u001b[0;34m\u001b[0m\u001b[0m\n",
      "\u001b[0;32m/usr/local/lib/python3.12/dist-packages/scipy/_lib/_array_api.py\u001b[0m in \u001b[0;36m<module>\u001b[0;34m\u001b[0m\n\u001b[1;32m     15\u001b[0m \u001b[0;34m\u001b[0m\u001b[0m\n\u001b[1;32m     16\u001b[0m \u001b[0;32mfrom\u001b[0m \u001b[0mscipy\u001b[0m\u001b[0;34m.\u001b[0m\u001b[0m_lib\u001b[0m \u001b[0;32mimport\u001b[0m \u001b[0marray_api_compat\u001b[0m\u001b[0;34m\u001b[0m\u001b[0;34m\u001b[0m\u001b[0m\n\u001b[0;32m---> 17\u001b[0;31m from scipy._lib.array_api_compat import (\n\u001b[0m\u001b[1;32m     18\u001b[0m     \u001b[0mis_array_api_obj\u001b[0m\u001b[0;34m,\u001b[0m\u001b[0;34m\u001b[0m\u001b[0;34m\u001b[0m\u001b[0m\n\u001b[1;32m     19\u001b[0m     \u001b[0msize\u001b[0m\u001b[0;34m,\u001b[0m\u001b[0;34m\u001b[0m\u001b[0;34m\u001b[0m\u001b[0m\n",
      "\u001b[0;32m/usr/local/lib/python3.12/dist-packages/scipy/_lib/array_api_compat/numpy/__init__.py\u001b[0m in \u001b[0;36m<module>\u001b[0;34m\u001b[0m\n\u001b[0;32m----> 1\u001b[0;31m \u001b[0;32mfrom\u001b[0m \u001b[0mnumpy\u001b[0m \u001b[0;32mimport\u001b[0m \u001b[0;34m*\u001b[0m\u001b[0;34m\u001b[0m\u001b[0;34m\u001b[0m\u001b[0m\n\u001b[0m\u001b[1;32m      2\u001b[0m \u001b[0;34m\u001b[0m\u001b[0m\n\u001b[1;32m      3\u001b[0m \u001b[0;31m# from numpy import * doesn't overwrite these builtin names\u001b[0m\u001b[0;34m\u001b[0m\u001b[0;34m\u001b[0m\u001b[0m\n\u001b[1;32m      4\u001b[0m \u001b[0;32mfrom\u001b[0m \u001b[0mnumpy\u001b[0m \u001b[0;32mimport\u001b[0m \u001b[0mabs\u001b[0m\u001b[0;34m,\u001b[0m \u001b[0mmax\u001b[0m\u001b[0;34m,\u001b[0m \u001b[0mmin\u001b[0m\u001b[0;34m,\u001b[0m \u001b[0mround\u001b[0m\u001b[0;34m\u001b[0m\u001b[0;34m\u001b[0m\u001b[0m\n\u001b[1;32m      5\u001b[0m \u001b[0;34m\u001b[0m\u001b[0m\n",
      "\u001b[0;32m/usr/lib/python3.12/importlib/_bootstrap.py\u001b[0m in \u001b[0;36m_handle_fromlist\u001b[0;34m(module, fromlist, import_, recursive)\u001b[0m\n",
      "\u001b[0;32m/usr/lib/python3.12/importlib/_bootstrap.py\u001b[0m in \u001b[0;36m_handle_fromlist\u001b[0;34m(module, fromlist, import_, recursive)\u001b[0m\n",
      "\u001b[0;32m/usr/local/lib/python3.12/dist-packages/numpy/__init__.py\u001b[0m in \u001b[0;36m__getattr__\u001b[0;34m(attr)\u001b[0m\n\u001b[1;32m    335\u001b[0m \u001b[0;34m\u001b[0m\u001b[0m\n\u001b[1;32m    336\u001b[0m     \u001b[0;32mdef\u001b[0m \u001b[0m__dir__\u001b[0m\u001b[0;34m(\u001b[0m\u001b[0;34m)\u001b[0m\u001b[0;34m:\u001b[0m\u001b[0;34m\u001b[0m\u001b[0;34m\u001b[0m\u001b[0m\n\u001b[0;32m--> 337\u001b[0;31m         \u001b[0mpublic_symbols\u001b[0m \u001b[0;34m=\u001b[0m \u001b[0mglobals\u001b[0m\u001b[0;34m(\u001b[0m\u001b[0;34m)\u001b[0m\u001b[0;34m.\u001b[0m\u001b[0mkeys\u001b[0m\u001b[0;34m(\u001b[0m\u001b[0;34m)\u001b[0m \u001b[0;34m|\u001b[0m \u001b[0;34m{\u001b[0m\u001b[0;34m'testing'\u001b[0m\u001b[0;34m}\u001b[0m\u001b[0;34m\u001b[0m\u001b[0;34m\u001b[0m\u001b[0m\n\u001b[0m\u001b[1;32m    338\u001b[0m         public_symbols -= {\n\u001b[1;32m    339\u001b[0m             \u001b[0;34m\"core\"\u001b[0m\u001b[0;34m,\u001b[0m \u001b[0;34m\"matrixlib\"\u001b[0m\u001b[0;34m,\u001b[0m\u001b[0;34m\u001b[0m\u001b[0;34m\u001b[0m\u001b[0m\n",
      "\u001b[0;32m/usr/local/lib/python3.12/dist-packages/numpy/random/__init__.py\u001b[0m in \u001b[0;36m<module>\u001b[0;34m\u001b[0m\n\u001b[1;32m    178\u001b[0m \u001b[0;34m\u001b[0m\u001b[0m\n\u001b[1;32m    179\u001b[0m \u001b[0;31m# add these for module-freeze analysis (like PyInstaller)\u001b[0m\u001b[0;34m\u001b[0m\u001b[0;34m\u001b[0m\u001b[0m\n\u001b[0;32m--> 180\u001b[0;31m \u001b[0;32mfrom\u001b[0m \u001b[0;34m.\u001b[0m \u001b[0;32mimport\u001b[0m \u001b[0m_pickle\u001b[0m\u001b[0;34m\u001b[0m\u001b[0;34m\u001b[0m\u001b[0m\n\u001b[0m\u001b[1;32m    181\u001b[0m \u001b[0;32mfrom\u001b[0m \u001b[0;34m.\u001b[0m \u001b[0;32mimport\u001b[0m \u001b[0m_common\u001b[0m\u001b[0;34m\u001b[0m\u001b[0;34m\u001b[0m\u001b[0m\n\u001b[1;32m    182\u001b[0m \u001b[0;32mfrom\u001b[0m \u001b[0;34m.\u001b[0m \u001b[0;32mimport\u001b[0m \u001b[0m_bounded_integers\u001b[0m\u001b[0;34m\u001b[0m\u001b[0;34m\u001b[0m\u001b[0m\n",
      "\u001b[0;32m/usr/local/lib/python3.12/dist-packages/numpy/random/_pickle.py\u001b[0m in \u001b[0;36m<module>\u001b[0;34m\u001b[0m\n\u001b[0;32m----> 1\u001b[0;31m \u001b[0;32mfrom\u001b[0m \u001b[0;34m.\u001b[0m\u001b[0mmtrand\u001b[0m \u001b[0;32mimport\u001b[0m \u001b[0mRandomState\u001b[0m\u001b[0;34m\u001b[0m\u001b[0;34m\u001b[0m\u001b[0m\n\u001b[0m\u001b[1;32m      2\u001b[0m \u001b[0;32mfrom\u001b[0m \u001b[0;34m.\u001b[0m\u001b[0m_philox\u001b[0m \u001b[0;32mimport\u001b[0m \u001b[0mPhilox\u001b[0m\u001b[0;34m\u001b[0m\u001b[0;34m\u001b[0m\u001b[0m\n\u001b[1;32m      3\u001b[0m \u001b[0;32mfrom\u001b[0m \u001b[0;34m.\u001b[0m\u001b[0m_pcg64\u001b[0m \u001b[0;32mimport\u001b[0m \u001b[0mPCG64\u001b[0m\u001b[0;34m,\u001b[0m \u001b[0mPCG64DXSM\u001b[0m\u001b[0;34m\u001b[0m\u001b[0;34m\u001b[0m\u001b[0m\n\u001b[1;32m      4\u001b[0m \u001b[0;32mfrom\u001b[0m \u001b[0;34m.\u001b[0m\u001b[0m_sfc64\u001b[0m \u001b[0;32mimport\u001b[0m \u001b[0mSFC64\u001b[0m\u001b[0;34m\u001b[0m\u001b[0;34m\u001b[0m\u001b[0m\n\u001b[1;32m      5\u001b[0m \u001b[0;34m\u001b[0m\u001b[0m\n",
      "\u001b[0;32mnumpy/random/mtrand.pyx\u001b[0m in \u001b[0;36minit numpy.random.mtrand\u001b[0;34m()\u001b[0m\n",
      "\u001b[0;31mValueError\u001b[0m: numpy.dtype size changed, may indicate binary incompatibility. Expected 96 from C header, got 88 from PyObject"
     ]
    }
   ],
   "source": [
    "%pip install gensim\n",
    "from gensim.corpora import Dictionary"
   ]
  },
  {
   "cell_type": "code",
   "execution_count": 1,
   "metadata": {
    "executionInfo": {
     "elapsed": 1559,
     "status": "ok",
     "timestamp": 1758229227290,
     "user": {
      "displayName": "Rafsun Sheikh",
      "userId": "00661906799562681997"
     },
     "user_tz": -600
    },
    "id": "A75gkcjVfkYp"
   },
   "outputs": [],
   "source": [
    "import pandas as pd\n",
    "from gensim.corpora import Dictionary"
   ]
  },
  {
   "cell_type": "code",
   "execution_count": 2,
   "metadata": {
    "colab": {
     "base_uri": "https://localhost:8080/"
    },
    "executionInfo": {
     "elapsed": 75654,
     "status": "ok",
     "timestamp": 1758229305123,
     "user": {
      "displayName": "Rafsun Sheikh",
      "userId": "00661906799562681997"
     },
     "user_tz": -600
    },
    "id": "X9JMar6iXnfB",
    "outputId": "79b67ce7-fe22-46a4-d02e-d3d3fec06447"
   },
   "outputs": [
    {
     "name": "stdout",
     "output_type": "stream",
     "text": [
      "Mounted at /content/drive\n"
     ]
    }
   ],
   "source": [
    "from google.colab import drive\n",
    "drive.mount('/content/drive')"
   ]
  },
  {
   "cell_type": "markdown",
   "metadata": {
    "id": "PFqYudOHTAEW"
   },
   "source": [
    "### **Load the Dictionary and Corpus**"
   ]
  },
  {
   "cell_type": "code",
   "execution_count": 3,
   "metadata": {
    "colab": {
     "base_uri": "https://localhost:8080/"
    },
    "executionInfo": {
     "elapsed": 5914,
     "status": "ok",
     "timestamp": 1758229325894,
     "user": {
      "displayName": "Rafsun Sheikh",
      "userId": "00661906799562681997"
     },
     "user_tz": -600
    },
    "id": "2-MF0gbKgGXd",
    "outputId": "e2175ec1-ccf4-45f5-8af5-c928c02e7715"
   },
   "outputs": [
    {
     "name": "stdout",
     "output_type": "stream",
     "text": [
      "Corpus loaded successfully.\n",
      "Dictionary loaded successfully.\n"
     ]
    }
   ],
   "source": [
    "from gensim import corpora\n",
    "from gensim.corpora import Dictionary\n",
    "\n",
    "# Load the corpus from the .mm file\n",
    "corpus = corpora.MmCorpus('/content/drive/MyDrive/Colab Notebooks/alex/models/dictionary_and_corpus/corpus.mm')\n",
    "\n",
    "print(\"Corpus loaded successfully.\")\n",
    "# You can optionally print the corpus to inspect its structure\n",
    "# print(list(corpus))\n",
    "\n",
    "\n",
    "# Load the dictionary from the .dict file\n",
    "dictionary = Dictionary.load('/content/drive/MyDrive/Colab Notebooks/alex/models/dictionary_and_corpus/dictionary.gensim')\n",
    "\n",
    "print(\"Dictionary loaded successfully.\")\n",
    "# You can optionally print the dictionary to inspect its contents\n",
    "# print(dictionary.token2id)\n",
    "# print(dictionary.id2token)"
   ]
  },
  {
   "cell_type": "markdown",
   "metadata": {
    "id": "0-ZNeGYATHPL"
   },
   "source": [
    "### **Start The Training**"
   ]
  },
  {
   "cell_type": "code",
   "execution_count": 4,
   "metadata": {
    "executionInfo": {
     "elapsed": 7508138,
     "status": "ok",
     "timestamp": 1758203515324,
     "user": {
      "displayName": "Rafsun Sheikh",
      "userId": "00661906799562681997"
     },
     "user_tz": -600
    },
    "id": "cCN_0WbeTKer"
   },
   "outputs": [],
   "source": [
    "import gensim\n",
    "from gensim.models.ldamulticore import LdaMulticore\n",
    "\n",
    "# Creating the object for LDA model using gensim library\n",
    "LDA = gensim.models.ldamodel.LdaModel\n",
    "# LDA = LdaMulticore\n",
    "# Build LDA model\n",
    "lda_model_25_topics = LDA(corpus=corpus, id2word=dictionary, num_topics=25, random_state=100,\n",
    "                chunksize=1000, passes=25,iterations=50)"
   ]
  },
  {
   "cell_type": "markdown",
   "metadata": {
    "id": "HAKJZ2qaTLEV"
   },
   "source": [
    "### **Save the model**"
   ]
  },
  {
   "cell_type": "code",
   "execution_count": 5,
   "metadata": {
    "colab": {
     "base_uri": "https://localhost:8080/"
    },
    "executionInfo": {
     "elapsed": 8,
     "status": "ok",
     "timestamp": 1758203515363,
     "user": {
      "displayName": "Rafsun Sheikh",
      "userId": "00661906799562681997"
     },
     "user_tz": -600
    },
    "id": "ufO9kUyVTOdc",
    "outputId": "72a02db1-ac3f-4515-eeb3-a810854846c8"
   },
   "outputs": [
    {
     "data": {
      "text/plain": [
       "[(13,\n",
       "  '0.019*\"sports\" + 0.016*\"tv\" + 0.014*\"network\" + 0.014*\"games\" + 0.013*\"espn\" + 0.011*\"watch\" + 0.010*\"live\" + 0.009*\"cbs\" + 0.007*\"fans\" + 0.007*\"streaming\"'),\n",
       " (11,\n",
       "  '0.016*\"softball\" + 0.015*\"regional\" + 0.014*\"baseball\" + 0.013*\"tbd\" + 0.013*\"harbaugh\" + 0.012*\"innings\" + 0.011*\"college_world_series\" + 0.010*\"hit\" + 0.010*\"inning\" + 0.010*\"run\"'),\n",
       " (20,\n",
       "  '0.022*\"yards\" + 0.020*\"college_football\" + 0.020*\"quarterback\" + 0.016*\"season\" + 0.016*\"bowl\" + 0.015*\"football\" + 0.010*\"week\" + 0.010*\"field\" + 0.008*\"defensive\" + 0.008*\"touchdowns\"'),\n",
       " (16,\n",
       "  '0.039*\"nba\" + 0.019*\"draft\" + 0.019*\"basketball\" + 0.017*\"league\" + 0.014*\"pick\" + 0.013*\"player\" + 0.011*\"star\" + 0.009*\"season\" + 0.008*\"celtics\" + 0.008*\"lakers\"'),\n",
       " (3,\n",
       "  '0.022*\"st\" + 0.020*\"tech\" + 0.019*\"south\" + 0.014*\"scored\" + 0.013*\"north\" + 0.011*\"gamecocks\" + 0.009*\"win\" + 0.009*\"round\" + 0.009*\"mississippi\" + 0.008*\"acc\"'),\n",
       " (23,\n",
       "  '0.042*\"boston\" + 0.030*\"globe\" + 0.023*\"eagles\" + 0.022*\"bc\" + 0.018*\"boston_college\" + 0.017*\"providence\" + 0.017*\"maine\" + 0.016*\"bu\" + 0.016*\"massachusetts\" + 0.014*\"university\"'),\n",
       " (1,\n",
       "  '0.050*\"golf\" + 0.016*\"round\" + 0.015*\"championship\" + 0.012*\"shot\" + 0.012*\"club\" + 0.011*\"tour\" + 0.011*\"tournament\" + 0.010*\"par\" + 0.010*\"pga_tour\" + 0.010*\"woods\"'),\n",
       " (2,\n",
       "  '0.014*\"sports\" + 0.014*\"athletes\" + 0.013*\"ncaa\" + 0.012*\"schools\" + 0.010*\"million\" + 0.007*\"university\" + 0.007*\"money\" + 0.007*\"football\" + 0.006*\"college_sports\" + 0.006*\"revenue\"'),\n",
       " (5,\n",
       "  '0.020*\"ncaa\" + 0.009*\"investigation\" + 0.008*\"university\" + 0.008*\"court\" + 0.007*\"statement\" + 0.006*\"told\" + 0.005*\"players\" + 0.005*\"federal\" + 0.005*\"report\" + 0.005*\"lawsuit\"'),\n",
       " (9,\n",
       "  '0.048*\"coach\" + 0.020*\"program\" + 0.018*\"coaches\" + 0.017*\"season\" + 0.016*\"coaching\" + 0.016*\"head_coach\" + 0.014*\"seasons\" + 0.012*\"job\" + 0.010*\"school\" + 0.009*\"basketball\"'),\n",
       " (22,\n",
       "  '0.045*\"season\" + 0.022*\"team\" + 0.019*\"guard\" + 0.015*\"player\" + 0.013*\"clark\" + 0.013*\"freshman\" + 0.012*\"games\" + 0.012*\"rebounds\" + 0.011*\"forward\" + 0.011*\"bruins\"'),\n",
       " (17,\n",
       "  '0.141*\"women\" + 0.085*\"p.m\" + 0.038*\"espn\" + 0.038*\"south\" + 0.028*\"basketball\" + 0.027*\"wnba\" + 0.016*\"march\" + 0.015*\"winner\" + 0.015*\"sunday\" + 0.013*\"friday\"'),\n",
       " (0,\n",
       "  '0.061*\"school\" + 0.022*\"college\" + 0.020*\"players\" + 0.014*\"recruiting\" + 0.014*\"basketball\" + 0.013*\"schools\" + 0.013*\"transfer\" + 0.012*\"class\" + 0.011*\"athletic\" + 0.010*\"program\"'),\n",
       " (21,\n",
       "  '0.022*\"team\" + 0.017*\"players\" + 0.016*\"time\" + 0.014*\"play\" + 0.014*\"lot\" + 0.010*\"playing\" + 0.010*\"coach\" + 0.009*\"season\" + 0.008*\"guys\" + 0.007*\"player\"'),\n",
       " (4,\n",
       "  '0.011*\"family\" + 0.009*\"school\" + 0.008*\"life\" + 0.008*\"people\" + 0.007*\"home\" + 0.006*\"black\" + 0.006*\"city\" + 0.006*\"father\" + 0.006*\"basketball\" + 0.005*\"parents\"'),\n",
       " (12,\n",
       "  '0.026*\"league\" + 0.022*\"nfl\" + 0.014*\"baseball\" + 0.013*\"season\" + 0.011*\"team\" + 0.010*\"million\" + 0.008*\"york\" + 0.008*\"games\" + 0.008*\"professional\" + 0.008*\"manager\"'),\n",
       " (7,\n",
       "  '0.018*\"olympic\" + 0.015*\"women\" + 0.014*\"world\" + 0.014*\"won\" + 0.013*\"time\" + 0.012*\"united\" + 0.012*\"olympics\" + 0.010*\"championships\" + 0.010*\"gold\" + 0.010*\"team\"'),\n",
       " (19,\n",
       "  '0.025*\"san_diego\" + 0.019*\"mexico\" + 0.018*\"cronin\" + 0.016*\"watkins\" + 0.015*\"march\" + 0.014*\"byu\" + 0.014*\"grand_canyon\" + 0.014*\"gcu\" + 0.013*\"loyola\" + 0.013*\"dakota\"'),\n",
       " (10,\n",
       "  '0.031*\"conference\" + 0.028*\"teams\" + 0.024*\"games\" + 0.021*\"team\" + 0.021*\"season\" + 0.019*\"ten\" + 0.017*\"top\" + 0.015*\"win\" + 0.013*\"sec\" + 0.012*\"play\"'),\n",
       " (14,\n",
       "  '0.024*\"seed\" + 0.024*\"tournament\" + 0.023*\"final\" + 0.019*\"ncaa_tournament\" + 0.019*\"team\" + 0.017*\"round\" + 0.015*\"teams\" + 0.013*\"win\" + 0.011*\"sweet\" + 0.011*\"march_madness\"')]"
      ]
     },
     "execution_count": 5,
     "metadata": {},
     "output_type": "execute_result"
    }
   ],
   "source": [
    "lda_model_25_topics.print_topics()"
   ]
  },
  {
   "cell_type": "code",
   "execution_count": 6,
   "metadata": {
    "executionInfo": {
     "elapsed": 6287,
     "status": "ok",
     "timestamp": 1758203521704,
     "user": {
      "displayName": "Rafsun Sheikh",
      "userId": "00661906799562681997"
     },
     "user_tz": -600
    },
    "id": "cXdmeH8pckGY"
   },
   "outputs": [],
   "source": [
    "import os\n",
    "\n",
    "save_dir = \"/content/drive/MyDrive/Colab Notebooks/alex/models/lda_25_topics\"\n",
    "os.makedirs(save_dir, exist_ok=True)\n",
    "\n",
    "# Save the LDA model\n",
    "lda_model_25_topics.save(os.path.join(save_dir, \"lda_model_25_topics.gensim\"))"
   ]
  },
  {
   "cell_type": "markdown",
   "metadata": {
    "id": "55J1lktDWjgL"
   },
   "source": [
    "**Coherence Score**"
   ]
  },
  {
   "cell_type": "code",
   "execution_count": 4,
   "metadata": {
    "colab": {
     "base_uri": "https://localhost:8080/"
    },
    "executionInfo": {
     "elapsed": 4407,
     "status": "ok",
     "timestamp": 1758229962602,
     "user": {
      "displayName": "Rafsun Sheikh",
      "userId": "00661906799562681997"
     },
     "user_tz": -600
    },
    "id": "qotRHl48q8Nk",
    "outputId": "21366939-b43c-476e-ec00-aa320a6a4407"
   },
   "outputs": [
    {
     "name": "stdout",
     "output_type": "stream",
     "text": [
      "Topics:\n",
      "Topic 21: 0.022*\"team\" + 0.017*\"players\" + 0.016*\"time\" + 0.014*\"play\" + 0.014*\"lot\" + 0.010*\"playing\" + 0.010*\"coach\" + 0.009*\"season\" + 0.008*\"guys\" + 0.007*\"player\"\n",
      "Topic 16: 0.039*\"nba\" + 0.019*\"draft\" + 0.019*\"basketball\" + 0.017*\"league\" + 0.014*\"pick\" + 0.013*\"player\" + 0.011*\"star\" + 0.009*\"season\" + 0.008*\"celtics\" + 0.008*\"lakers\"\n",
      "Topic 8: 0.025*\"injury\" + 0.019*\"season\" + 0.016*\"injuries\" + 0.015*\"health\" + 0.012*\"week\" + 0.011*\"surgery\" + 0.010*\"practice\" + 0.010*\"return\" + 0.010*\"day\" + 0.009*\"knee\"\n",
      "Topic 9: 0.048*\"coach\" + 0.020*\"program\" + 0.018*\"coaches\" + 0.017*\"season\" + 0.016*\"coaching\" + 0.016*\"head_coach\" + 0.014*\"seasons\" + 0.012*\"job\" + 0.010*\"school\" + 0.009*\"basketball\"\n",
      "Topic 3: 0.022*\"st\" + 0.020*\"tech\" + 0.019*\"south\" + 0.014*\"scored\" + 0.013*\"north\" + 0.011*\"gamecocks\" + 0.009*\"win\" + 0.009*\"round\" + 0.009*\"mississippi\" + 0.008*\"acc\"\n",
      "Topic 24: 0.022*\"half\" + 0.017*\"lead\" + 0.015*\"minutes\" + 0.013*\"shot\" + 0.013*\"left\" + 0.011*\"scored\" + 0.010*\"play\" + 0.010*\"rebounds\" + 0.010*\"win\" + 0.009*\"quarter\"\n",
      "Topic 5: 0.020*\"ncaa\" + 0.009*\"investigation\" + 0.008*\"university\" + 0.008*\"court\" + 0.007*\"statement\" + 0.006*\"told\" + 0.005*\"players\" + 0.005*\"federal\" + 0.005*\"report\" + 0.005*\"lawsuit\"\n",
      "Topic 14: 0.024*\"seed\" + 0.024*\"tournament\" + 0.023*\"final\" + 0.019*\"ncaa_tournament\" + 0.019*\"team\" + 0.017*\"round\" + 0.015*\"teams\" + 0.013*\"win\" + 0.011*\"sweet\" + 0.011*\"march_madness\"\n",
      "Topic 15: 0.054*\"gophers\" + 0.041*\"minnesota\" + 0.028*\"hockey\" + 0.016*\"goals\" + 0.016*\"season\" + 0.015*\"nhl\" + 0.014*\"games\" + 0.012*\"goal\" + 0.012*\"play\" + 0.010*\"ten\"\n",
      "Topic 10: 0.031*\"conference\" + 0.028*\"teams\" + 0.024*\"games\" + 0.021*\"team\" + 0.021*\"season\" + 0.019*\"ten\" + 0.017*\"top\" + 0.015*\"win\" + 0.013*\"sec\" + 0.012*\"play\"\n",
      "Topic 1: 0.050*\"golf\" + 0.016*\"round\" + 0.015*\"championship\" + 0.012*\"shot\" + 0.012*\"club\" + 0.011*\"tour\" + 0.011*\"tournament\" + 0.010*\"par\" + 0.010*\"pga_tour\" + 0.010*\"woods\"\n",
      "Topic 19: 0.025*\"san_diego\" + 0.019*\"mexico\" + 0.018*\"cronin\" + 0.016*\"watkins\" + 0.015*\"march\" + 0.014*\"byu\" + 0.014*\"grand_canyon\" + 0.014*\"gcu\" + 0.013*\"loyola\" + 0.013*\"dakota\"\n",
      "Topic 20: 0.022*\"yards\" + 0.020*\"college_football\" + 0.020*\"quarterback\" + 0.016*\"season\" + 0.016*\"bowl\" + 0.015*\"football\" + 0.010*\"week\" + 0.010*\"field\" + 0.008*\"defensive\" + 0.008*\"touchdowns\"\n",
      "Topic 23: 0.042*\"boston\" + 0.030*\"globe\" + 0.023*\"eagles\" + 0.022*\"bc\" + 0.018*\"boston_college\" + 0.017*\"providence\" + 0.017*\"maine\" + 0.016*\"bu\" + 0.016*\"massachusetts\" + 0.014*\"university\"\n",
      "Topic 18: 0.010*\"nil\" + 0.009*\"fans\" + 0.007*\"people\" + 0.007*\"sports\" + 0.007*\"time\" + 0.004*\"day\" + 0.004*\"moment\" + 0.004*\"story\" + 0.004*\"told\" + 0.003*\"media\"\n",
      "Topic 0: 0.061*\"school\" + 0.022*\"college\" + 0.020*\"players\" + 0.014*\"recruiting\" + 0.014*\"basketball\" + 0.013*\"schools\" + 0.013*\"transfer\" + 0.012*\"class\" + 0.011*\"athletic\" + 0.010*\"program\"\n",
      "Topic 17: 0.141*\"women\" + 0.085*\"p.m\" + 0.038*\"espn\" + 0.038*\"south\" + 0.028*\"basketball\" + 0.027*\"wnba\" + 0.016*\"march\" + 0.015*\"winner\" + 0.015*\"sunday\" + 0.013*\"friday\"\n",
      "Topic 2: 0.014*\"sports\" + 0.014*\"athletes\" + 0.013*\"ncaa\" + 0.012*\"schools\" + 0.010*\"million\" + 0.007*\"university\" + 0.007*\"money\" + 0.007*\"football\" + 0.006*\"college_sports\" + 0.006*\"revenue\"\n",
      "Topic 13: 0.019*\"sports\" + 0.016*\"tv\" + 0.014*\"network\" + 0.014*\"games\" + 0.013*\"espn\" + 0.011*\"watch\" + 0.010*\"live\" + 0.009*\"cbs\" + 0.007*\"fans\" + 0.007*\"streaming\"\n",
      "Topic 12: 0.026*\"league\" + 0.022*\"nfl\" + 0.014*\"baseball\" + 0.013*\"season\" + 0.011*\"team\" + 0.010*\"million\" + 0.008*\"york\" + 0.008*\"games\" + 0.008*\"professional\" + 0.008*\"manager\"\n"
     ]
    }
   ],
   "source": [
    "from gensim.models.ldamodel import LdaModel\n",
    "\n",
    "# Load the LDA model\n",
    "lda_model_25_topics = LdaModel.load('/content/drive/MyDrive/Colab Notebooks/alex/models/lda_25_topics/lda_model_25_topics.gensim')\n",
    "\n",
    "# Now you can access information from the loaded model.\n",
    "# For example, you can print the topics:\n",
    "print(\"Topics:\")\n",
    "for topic_id, topic in lda_model_25_topics.print_topics():\n",
    "    print(f\"Topic {topic_id}: {topic}\")"
   ]
  },
  {
   "cell_type": "code",
   "execution_count": 5,
   "metadata": {
    "colab": {
     "base_uri": "https://localhost:8080/"
    },
    "executionInfo": {
     "elapsed": 27114,
     "status": "ok",
     "timestamp": 1758229992715,
     "user": {
      "displayName": "Rafsun Sheikh",
      "userId": "00661906799562681997"
     },
     "user_tz": -600
    },
    "id": "400e86d8",
    "outputId": "36156c6a-eca9-4e8b-ba85-8738718c7fc4"
   },
   "outputs": [
    {
     "name": "stdout",
     "output_type": "stream",
     "text": [
      "Loaded 149649 documents from /content/drive/MyDrive/Colab Notebooks/alex/models/dictionary_and_corpus/texts.json\n"
     ]
    }
   ],
   "source": [
    "import json\n",
    "\n",
    "# Assuming your JSON file contains a list of lists, where each inner list is a tokenized document\n",
    "# Replace '/content/drive/MyDrive/path/to/your/texts.json' with the actual path to your JSON file\n",
    "texts_file_path = '/content/drive/MyDrive/Colab Notebooks/alex/models/dictionary_and_corpus/texts.json'\n",
    "\n",
    "with open(texts_file_path, 'r') as f:\n",
    "    texts = json.load(f)\n",
    "\n",
    "print(f\"Loaded {len(texts)} documents from {texts_file_path}\")"
   ]
  },
  {
   "cell_type": "code",
   "execution_count": 6,
   "metadata": {
    "colab": {
     "base_uri": "https://localhost:8080/"
    },
    "executionInfo": {
     "elapsed": 2361219,
     "status": "ok",
     "timestamp": 1758232356246,
     "user": {
      "displayName": "Rafsun Sheikh",
      "userId": "00661906799562681997"
     },
     "user_tz": -600
    },
    "id": "ZIZWsrzOWixl",
    "outputId": "1c7bc3b4-a7b8-4cf7-b52f-d5bb8a6ec7ff"
   },
   "outputs": [
    {
     "name": "stdout",
     "output_type": "stream",
     "text": [
      "Coherence (c_v): 0.5319914083069373\n"
     ]
    }
   ],
   "source": [
    "from gensim.models import LdaModel, CoherenceModel\n",
    "# 7) Coherence (optional but recommended for model selection)\n",
    "cm = CoherenceModel(model=lda_model_25_topics, texts=texts, dictionary=dictionary, coherence='c_v')\n",
    "coherence = cm.get_coherence()\n",
    "print(\"Coherence (c_v):\", coherence)"
   ]
  },
  {
   "cell_type": "markdown",
   "metadata": {},
   "source": [
    "##### **© 2024–2025 MD Rafsun Sheikh**\n",
    "##### **Licensed under the Apache License, Version 2.0.**"
   ]
  },
  {
   "cell_type": "code",
   "execution_count": null,
   "metadata": {
    "id": "X9TUsKDabYb9"
   },
   "outputs": [],
   "source": []
  }
 ],
 "metadata": {
  "colab": {
   "authorship_tag": "ABX9TyMJJcRhYXzeat1sPY6+OEX5",
   "provenance": [
    {
     "file_id": "1mFz5TGnTXRnRyk8VaeJQhWsIRz9nvmul",
     "timestamp": 1756033356622
    },
    {
     "file_id": "1Lp3cbJiS2vCgnhvYh6ulq_2ENstOaJWY",
     "timestamp": 1756028424303
    }
   ]
  },
  "kernelspec": {
   "display_name": "Python 3",
   "name": "python3"
  },
  "language_info": {
   "name": "python"
  }
 },
 "nbformat": 4,
 "nbformat_minor": 0
}
