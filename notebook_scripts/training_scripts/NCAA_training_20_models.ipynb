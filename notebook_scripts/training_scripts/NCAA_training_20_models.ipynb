{
 "cells": [
  {
   "cell_type": "code",
   "execution_count": 4,
   "metadata": {
    "colab": {
     "base_uri": "https://localhost:8080/"
    },
    "executionInfo": {
     "elapsed": 5713,
     "status": "ok",
     "timestamp": 1756033302273,
     "user": {
      "displayName": "Rafsun Sheikh",
      "userId": "00661906799562681997"
     },
     "user_tz": -600
    },
    "id": "A2Kx4dwiYEMl",
    "outputId": "bb5801b5-d996-4047-9d0c-bac7f0ceec51"
   },
   "outputs": [
    {
     "name": "stdout",
     "output_type": "stream",
     "text": [
      "Requirement already satisfied: gensim in /usr/local/lib/python3.12/dist-packages (4.3.3)\n",
      "Requirement already satisfied: numpy<2.0,>=1.18.5 in /usr/local/lib/python3.12/dist-packages (from gensim) (1.26.4)\n",
      "Requirement already satisfied: scipy<1.14.0,>=1.7.0 in /usr/local/lib/python3.12/dist-packages (from gensim) (1.13.1)\n",
      "Requirement already satisfied: smart-open>=1.8.1 in /usr/local/lib/python3.12/dist-packages (from gensim) (7.3.0.post1)\n",
      "Requirement already satisfied: wrapt in /usr/local/lib/python3.12/dist-packages (from smart-open>=1.8.1->gensim) (1.17.3)\n"
     ]
    }
   ],
   "source": [
    "%pip install gensim\n",
    "from gensim.corpora import Dictionary"
   ]
  },
  {
   "cell_type": "code",
   "execution_count": 5,
   "metadata": {
    "executionInfo": {
     "elapsed": 86,
     "status": "ok",
     "timestamp": 1756033308893,
     "user": {
      "displayName": "Rafsun Sheikh",
      "userId": "00661906799562681997"
     },
     "user_tz": -600
    },
    "id": "A75gkcjVfkYp"
   },
   "outputs": [],
   "source": [
    "import pandas as pd\n",
    "from gensim.corpora import Dictionary"
   ]
  },
  {
   "cell_type": "code",
   "execution_count": 6,
   "metadata": {
    "colab": {
     "base_uri": "https://localhost:8080/"
    },
    "executionInfo": {
     "elapsed": 2613,
     "status": "ok",
     "timestamp": 1756033319295,
     "user": {
      "displayName": "Rafsun Sheikh",
      "userId": "00661906799562681997"
     },
     "user_tz": -600
    },
    "id": "X9JMar6iXnfB",
    "outputId": "2e81a5d6-196f-40b4-cb9f-b8f966e29bf5"
   },
   "outputs": [
    {
     "name": "stdout",
     "output_type": "stream",
     "text": [
      "Drive already mounted at /content/drive; to attempt to forcibly remount, call drive.mount(\"/content/drive\", force_remount=True).\n"
     ]
    }
   ],
   "source": [
    "from google.colab import drive\n",
    "drive.mount('/content/drive')"
   ]
  },
  {
   "cell_type": "markdown",
   "metadata": {
    "id": "PFqYudOHTAEW"
   },
   "source": [
    "### **Load the Dictionary and Corpus**"
   ]
  },
  {
   "cell_type": "code",
   "execution_count": 7,
   "metadata": {
    "colab": {
     "base_uri": "https://localhost:8080/"
    },
    "executionInfo": {
     "elapsed": 446,
     "status": "ok",
     "timestamp": 1756033324370,
     "user": {
      "displayName": "Rafsun Sheikh",
      "userId": "00661906799562681997"
     },
     "user_tz": -600
    },
    "id": "2-MF0gbKgGXd",
    "outputId": "0644cece-646b-46c3-a1c6-2c59cea7a06b"
   },
   "outputs": [
    {
     "name": "stdout",
     "output_type": "stream",
     "text": [
      "Corpus loaded successfully.\n",
      "Dictionary loaded successfully.\n"
     ]
    }
   ],
   "source": [
    "from gensim import corpora\n",
    "from gensim.corpora import Dictionary\n",
    "\n",
    "# Load the corpus from the .mm file\n",
    "corpus = corpora.MmCorpus('/content/drive/MyDrive/Colab Notebooks/alex/models/dictionary_and_corpus/corpus.mm')\n",
    "\n",
    "print(\"Corpus loaded successfully.\")\n",
    "# You can optionally print the corpus to inspect its structure\n",
    "# print(list(corpus))\n",
    "\n",
    "\n",
    "# Load the dictionary from the .dict file\n",
    "dictionary = Dictionary.load('/content/drive/MyDrive/Colab Notebooks/alex/models/dictionary_and_corpus/dictionary.gensim')\n",
    "\n",
    "print(\"Dictionary loaded successfully.\")\n",
    "# You can optionally print the dictionary to inspect its contents\n",
    "# print(dictionary.token2id)\n",
    "# print(dictionary.id2token)"
   ]
  },
  {
   "cell_type": "markdown",
   "metadata": {
    "id": "0-ZNeGYATHPL"
   },
   "source": [
    "### **Start The Training**"
   ]
  },
  {
   "cell_type": "code",
   "execution_count": 8,
   "metadata": {
    "colab": {
     "base_uri": "https://localhost:8080/"
    },
    "executionInfo": {
     "elapsed": 11959804,
     "status": "ok",
     "timestamp": 1756045303644,
     "user": {
      "displayName": "Rafsun Sheikh",
      "userId": "00661906799562681997"
     },
     "user_tz": -600
    },
    "id": "cCN_0WbeTKer",
    "outputId": "4c0b6c47-1fbe-49da-8de1-f24ed1a255f7"
   },
   "outputs": [
    {
     "name": "stderr",
     "output_type": "stream",
     "text": [
      "/usr/local/lib/python3.12/dist-packages/gensim/models/ldamodel.py:847: RuntimeWarning: divide by zero encountered in scalar divide\n",
      "  perwordbound = self.bound(chunk, subsample_ratio=subsample_ratio) / (subsample_ratio * corpus_words)\n"
     ]
    }
   ],
   "source": [
    "import gensim\n",
    "# Creating the object for LDA model using gensim library\n",
    "LDA = gensim.models.ldamodel.LdaModel\n",
    "# Build LDA model\n",
    "lda_model_20_topics = LDA(corpus=corpus, id2word=dictionary, num_topics=20, random_state=100,\n",
    "                chunksize=1000, passes=25,iterations=50)"
   ]
  },
  {
   "cell_type": "markdown",
   "metadata": {
    "id": "HAKJZ2qaTLEV"
   },
   "source": [
    "### **Save the model**"
   ]
  },
  {
   "cell_type": "code",
   "execution_count": 9,
   "metadata": {
    "colab": {
     "base_uri": "https://localhost:8080/"
    },
    "executionInfo": {
     "elapsed": 17,
     "status": "ok",
     "timestamp": 1756045304407,
     "user": {
      "displayName": "Rafsun Sheikh",
      "userId": "00661906799562681997"
     },
     "user_tz": -600
    },
    "id": "ufO9kUyVTOdc",
    "outputId": "fbbc38a1-773a-4c55-9ab4-26847c4b6d26"
   },
   "outputs": [
    {
     "data": {
      "text/plain": [
       "[(0,\n",
       "  '0.058*\"coach\" + 0.029*\"basketball\" + 0.014*\"year\" + 0.013*\"coaching\" + 0.013*\"head\" + 0.010*\"program\" + 0.010*\"assistant\" + 0.010*\"season\" + 0.009*\"championship\" + 0.009*\"college\"'),\n",
       " (1,\n",
       "  '0.028*\"school\" + 0.022*\"year\" + 0.021*\"player\" + 0.020*\"high\" + 0.020*\"season\" + 0.018*\"team\" + 0.018*\"college\" + 0.013*\"coach\" + 0.012*\"said\" + 0.011*\"transfer\"'),\n",
       " (2,\n",
       "  '0.036*\"gopher\" + 0.026*\"hockey\" + 0.025*\"minnesota\" + 0.020*\"game\" + 0.016*\"goal\" + 0.014*\"team\" + 0.013*\"season\" + 0.009*\"state\" + 0.009*\"first\" + 0.008*\"four\"'),\n",
       " (3,\n",
       "  '0.007*\"nil\" + 0.007*\"people\" + 0.005*\"day\" + 0.005*\"one\" + 0.005*\"say\" + 0.005*\"family\" + 0.005*\"trump\" + 0.004*\"life\" + 0.004*\"new\" + 0.004*\"social\"'),\n",
       " (4,\n",
       "  '0.016*\"ncaa\" + 0.016*\"said\" + 0.015*\"college\" + 0.015*\"school\" + 0.014*\"athlete\" + 0.012*\"sport\" + 0.011*\"state\" + 0.009*\"university\" + 0.008*\"football\" + 0.008*\"would\"'),\n",
       " (5,\n",
       "  '0.024*\"woman\" + 0.018*\"u\" + 0.015*\"championship\" + 0.015*\"olympic\" + 0.015*\"world\" + 0.012*\"team\" + 0.010*\"first\" + 0.010*\"united\" + 0.009*\"title\" + 0.009*\"olympics\"'),\n",
       " (6,\n",
       "  '0.028*\"game\" + 0.018*\"point\" + 0.012*\"shot\" + 0.011*\"first\" + 0.011*\"second\" + 0.011*\"said\" + 0.008*\"minute\" + 0.008*\"guard\" + 0.008*\"team\" + 0.008*\"play\"'),\n",
       " (7,\n",
       "  '0.020*\"per\" + 0.017*\"point\" + 0.015*\"2024\" + 0.014*\"season\" + 0.012*\"ppg\" + 0.012*\"guard\" + 0.011*\"g\" + 0.009*\"last\" + 0.008*\"player\" + 0.008*\"rpg\"'),\n",
       " (8,\n",
       "  '0.032*\"tournament\" + 0.026*\"team\" + 0.023*\"state\" + 0.016*\"big\" + 0.014*\"ncaa\" + 0.014*\"seed\" + 0.013*\"game\" + 0.012*\"win\" + 0.012*\"season\" + 0.012*\"four\"'),\n",
       " (9,\n",
       "  '0.089*\"woman\" + 0.038*\"uconn\" + 0.033*\"clark\" + 0.032*\"basketball\" + 0.029*\"south\" + 0.024*\"carolina\" + 0.023*\"wnba\" + 0.022*\"championship\" + 0.019*\"game\" + 0.018*\"dame\"'),\n",
       " (10,\n",
       "  '0.029*\"said\" + 0.013*\"like\" + 0.011*\"would\" + 0.011*\"going\" + 0.011*\"get\" + 0.011*\"year\" + 0.010*\"one\" + 0.010*\"team\" + 0.009*\"player\" + 0.009*\"time\"'),\n",
       " (11,\n",
       "  '0.047*\"v\" + 0.041*\"pm\" + 0.035*\"state\" + 0.024*\"1\" + 0.022*\"2\" + 0.021*\"game\" + 0.021*\"march\" + 0.019*\"3\" + 0.017*\"4\" + 0.016*\"7\"'),\n",
       " (12,\n",
       "  '0.022*\"draft\" + 0.019*\"season\" + 0.017*\"nba\" + 0.014*\"player\" + 0.014*\"pick\" + 0.012*\"league\" + 0.009*\"team\" + 0.009*\"new\" + 0.006*\"game\" + 0.006*\"injury\"'),\n",
       " (13,\n",
       "  '0.033*\"football\" + 0.017*\"game\" + 0.017*\"state\" + 0.014*\"season\" + 0.014*\"quarterback\" + 0.012*\"bowl\" + 0.012*\"yard\" + 0.012*\"alabama\" + 0.009*\"college\" + 0.009*\"nfl\"'),\n",
       " (14,\n",
       "  '0.021*\"tournament\" + 0.021*\"st\" + 0.016*\"game\" + 0.014*\"goal\" + 0.014*\"east\" + 0.013*\"john\" + 0.011*\"first\" + 0.011*\"ncaa\" + 0.010*\"championship\" + 0.010*\"win\"'),\n",
       " (15,\n",
       "  '0.026*\"arizona\" + 0.024*\"baseball\" + 0.023*\"game\" + 0.017*\"asu\" + 0.015*\"run\" + 0.014*\"series\" + 0.013*\"softball\" + 0.013*\"first\" + 0.013*\"inning\" + 0.012*\"sun\"'),\n",
       " (16,\n",
       "  '0.039*\"golf\" + 0.022*\"tour\" + 0.019*\"open\" + 0.015*\"championship\" + 0.015*\"2023\" + 0.015*\"round\" + 0.014*\"tournament\" + 0.012*\"pga\" + 0.011*\"shot\" + 0.010*\"first\"'),\n",
       " (17,\n",
       "  '0.052*\"point\" + 0.018*\"scored\" + 0.017*\"second\" + 0.015*\"lead\" + 0.014*\"first\" + 0.013*\"state\" + 0.013*\"rebound\" + 0.010*\"16\" + 0.009*\"win\" + 0.008*\"12\"'),\n",
       " (18,\n",
       "  '0.030*\"sport\" + 0.022*\"game\" + 0.012*\"basketball\" + 0.011*\"network\" + 0.010*\"college\" + 0.010*\"fan\" + 0.009*\"year\" + 0.009*\"million\" + 0.008*\"new\" + 0.007*\"betting\"'),\n",
       " (19,\n",
       "  '0.095*\"ucla\" + 0.075*\"usc\" + 0.046*\"bruin\" + 0.028*\"trojan\" + 0.026*\"oregon\" + 0.024*\"los\" + 0.024*\"angeles\" + 0.024*\"california\" + 0.019*\"arizona\" + 0.018*\"photo\"')]"
      ]
     },
     "execution_count": 9,
     "metadata": {},
     "output_type": "execute_result"
    }
   ],
   "source": [
    "lda_model_20_topics.print_topics()"
   ]
  },
  {
   "cell_type": "code",
   "execution_count": 10,
   "metadata": {
    "executionInfo": {
     "elapsed": 219,
     "status": "ok",
     "timestamp": 1756045304623,
     "user": {
      "displayName": "Rafsun Sheikh",
      "userId": "00661906799562681997"
     },
     "user_tz": -600
    },
    "id": "cXdmeH8pckGY"
   },
   "outputs": [],
   "source": [
    "import os\n",
    "\n",
    "save_dir = \"/content/drive/MyDrive/Colab Notebooks/alex/models/lda_20_topics\"\n",
    "os.makedirs(save_dir, exist_ok=True)\n",
    "\n",
    "# Save the LDA model\n",
    "lda_model_20_topics.save(os.path.join(save_dir, \"lda_model_20_topics.gensim\"))"
   ]
  },
  {
   "cell_type": "markdown",
   "metadata": {},
   "source": [
    "##### **© 2024–2025 MD Rafsun Sheikh**\n",
    "##### **Licensed under the Apache License, Version 2.0.**"
   ]
  }
 ],
 "metadata": {
  "colab": {
   "authorship_tag": "ABX9TyPtoLAO10VXqxqjScEHzBqE",
   "provenance": [
    {
     "file_id": "1Lp3cbJiS2vCgnhvYh6ulq_2ENstOaJWY",
     "timestamp": 1756028424303
    }
   ]
  },
  "kernelspec": {
   "display_name": "Python 3",
   "name": "python3"
  },
  "language_info": {
   "name": "python"
  }
 },
 "nbformat": 4,
 "nbformat_minor": 0
}
