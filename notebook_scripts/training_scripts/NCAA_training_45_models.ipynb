{
 "cells": [
  {
   "cell_type": "code",
   "execution_count": 1,
   "metadata": {
    "colab": {
     "base_uri": "https://localhost:8080/",
     "height": 1000
    },
    "executionInfo": {
     "elapsed": 27925,
     "status": "error",
     "timestamp": 1758252100728,
     "user": {
      "displayName": "Rafsun Sheikh",
      "userId": "00661906799562681997"
     },
     "user_tz": -600
    },
    "id": "A2Kx4dwiYEMl",
    "outputId": "70a44ba6-d4d1-4b31-c9e7-29acb7c3f119"
   },
   "outputs": [
    {
     "name": "stdout",
     "output_type": "stream",
     "text": [
      "Collecting gensim\n",
      "  Downloading gensim-4.3.3-cp312-cp312-manylinux_2_17_x86_64.manylinux2014_x86_64.whl.metadata (8.1 kB)\n",
      "Collecting numpy<2.0,>=1.18.5 (from gensim)\n",
      "  Downloading numpy-1.26.4-cp312-cp312-manylinux_2_17_x86_64.manylinux2014_x86_64.whl.metadata (61 kB)\n",
      "\u001b[2K     \u001b[90m━━━━━━━━━━━━━━━━━━━━━━━━━━━━━━━━━━━━━━━━\u001b[0m \u001b[32m61.0/61.0 kB\u001b[0m \u001b[31m4.9 MB/s\u001b[0m eta \u001b[36m0:00:00\u001b[0m\n",
      "\u001b[?25hCollecting scipy<1.14.0,>=1.7.0 (from gensim)\n",
      "  Downloading scipy-1.13.1-cp312-cp312-manylinux_2_17_x86_64.manylinux2014_x86_64.whl.metadata (60 kB)\n",
      "\u001b[2K     \u001b[90m━━━━━━━━━━━━━━━━━━━━━━━━━━━━━━━━━━━━━━━━\u001b[0m \u001b[32m60.6/60.6 kB\u001b[0m \u001b[31m5.1 MB/s\u001b[0m eta \u001b[36m0:00:00\u001b[0m\n",
      "\u001b[?25hRequirement already satisfied: smart-open>=1.8.1 in /usr/local/lib/python3.12/dist-packages (from gensim) (7.3.1)\n",
      "Requirement already satisfied: wrapt in /usr/local/lib/python3.12/dist-packages (from smart-open>=1.8.1->gensim) (1.17.3)\n",
      "Downloading gensim-4.3.3-cp312-cp312-manylinux_2_17_x86_64.manylinux2014_x86_64.whl (26.6 MB)\n",
      "\u001b[2K   \u001b[90m━━━━━━━━━━━━━━━━━━━━━━━━━━━━━━━━━━━━━━━━\u001b[0m \u001b[32m26.6/26.6 MB\u001b[0m \u001b[31m67.0 MB/s\u001b[0m eta \u001b[36m0:00:00\u001b[0m\n",
      "\u001b[?25hDownloading numpy-1.26.4-cp312-cp312-manylinux_2_17_x86_64.manylinux2014_x86_64.whl (18.0 MB)\n",
      "\u001b[2K   \u001b[90m━━━━━━━━━━━━━━━━━━━━━━━━━━━━━━━━━━━━━━━━\u001b[0m \u001b[32m18.0/18.0 MB\u001b[0m \u001b[31m92.7 MB/s\u001b[0m eta \u001b[36m0:00:00\u001b[0m\n",
      "\u001b[?25hDownloading scipy-1.13.1-cp312-cp312-manylinux_2_17_x86_64.manylinux2014_x86_64.whl (38.2 MB)\n",
      "\u001b[2K   \u001b[90m━━━━━━━━━━━━━━━━━━━━━━━━━━━━━━━━━━━━━━━━\u001b[0m \u001b[32m38.2/38.2 MB\u001b[0m \u001b[31m15.6 MB/s\u001b[0m eta \u001b[36m0:00:00\u001b[0m\n",
      "\u001b[?25hInstalling collected packages: numpy, scipy, gensim\n",
      "  Attempting uninstall: numpy\n",
      "    Found existing installation: numpy 2.0.2\n",
      "    Uninstalling numpy-2.0.2:\n",
      "      Successfully uninstalled numpy-2.0.2\n",
      "  Attempting uninstall: scipy\n",
      "    Found existing installation: scipy 1.16.1\n",
      "    Uninstalling scipy-1.16.1:\n",
      "      Successfully uninstalled scipy-1.16.1\n",
      "\u001b[31mERROR: pip's dependency resolver does not currently take into account all the packages that are installed. This behaviour is the source of the following dependency conflicts.\n",
      "thinc 8.3.6 requires numpy<3.0.0,>=2.0.0, but you have numpy 1.26.4 which is incompatible.\n",
      "opencv-python-headless 4.12.0.88 requires numpy<2.3.0,>=2; python_version >= \"3.9\", but you have numpy 1.26.4 which is incompatible.\n",
      "opencv-python 4.12.0.88 requires numpy<2.3.0,>=2; python_version >= \"3.9\", but you have numpy 1.26.4 which is incompatible.\n",
      "tsfresh 0.21.1 requires scipy>=1.14.0; python_version >= \"3.10\", but you have scipy 1.13.1 which is incompatible.\n",
      "opencv-contrib-python 4.12.0.88 requires numpy<2.3.0,>=2; python_version >= \"3.9\", but you have numpy 1.26.4 which is incompatible.\u001b[0m\u001b[31m\n",
      "\u001b[0mSuccessfully installed gensim-4.3.3 numpy-1.26.4 scipy-1.13.1\n"
     ]
    },
    {
     "data": {
      "application/vnd.colab-display-data+json": {
       "id": "b8a597813f474c6db65c4bff35424aec",
       "pip_warning": {
        "packages": [
         "numpy"
        ]
       }
      }
     },
     "metadata": {},
     "output_type": "display_data"
    },
    {
     "ename": "ModuleNotFoundError",
     "evalue": "No module named 'numpy.rec'",
     "output_type": "error",
     "traceback": [
      "\u001b[0;31m---------------------------------------------------------------------------\u001b[0m",
      "\u001b[0;31mModuleNotFoundError\u001b[0m                       Traceback (most recent call last)",
      "\u001b[0;32m/tmp/ipython-input-3354638191.py\u001b[0m in \u001b[0;36m<cell line: 0>\u001b[0;34m()\u001b[0m\n\u001b[1;32m      1\u001b[0m \u001b[0mget_ipython\u001b[0m\u001b[0;34m(\u001b[0m\u001b[0;34m)\u001b[0m\u001b[0;34m.\u001b[0m\u001b[0mrun_line_magic\u001b[0m\u001b[0;34m(\u001b[0m\u001b[0;34m'pip'\u001b[0m\u001b[0;34m,\u001b[0m \u001b[0;34m'install gensim'\u001b[0m\u001b[0;34m)\u001b[0m\u001b[0;34m\u001b[0m\u001b[0;34m\u001b[0m\u001b[0m\n\u001b[0;32m----> 2\u001b[0;31m \u001b[0;32mfrom\u001b[0m \u001b[0mgensim\u001b[0m\u001b[0;34m.\u001b[0m\u001b[0mcorpora\u001b[0m \u001b[0;32mimport\u001b[0m \u001b[0mDictionary\u001b[0m\u001b[0;34m\u001b[0m\u001b[0;34m\u001b[0m\u001b[0m\n\u001b[0m",
      "\u001b[0;32m/usr/local/lib/python3.12/dist-packages/gensim/__init__.py\u001b[0m in \u001b[0;36m<module>\u001b[0;34m\u001b[0m\n\u001b[1;32m      9\u001b[0m \u001b[0;32mimport\u001b[0m \u001b[0mlogging\u001b[0m\u001b[0;34m\u001b[0m\u001b[0;34m\u001b[0m\u001b[0m\n\u001b[1;32m     10\u001b[0m \u001b[0;34m\u001b[0m\u001b[0m\n\u001b[0;32m---> 11\u001b[0;31m \u001b[0;32mfrom\u001b[0m \u001b[0mgensim\u001b[0m \u001b[0;32mimport\u001b[0m \u001b[0mparsing\u001b[0m\u001b[0;34m,\u001b[0m \u001b[0mcorpora\u001b[0m\u001b[0;34m,\u001b[0m \u001b[0mmatutils\u001b[0m\u001b[0;34m,\u001b[0m \u001b[0minterfaces\u001b[0m\u001b[0;34m,\u001b[0m \u001b[0mmodels\u001b[0m\u001b[0;34m,\u001b[0m \u001b[0msimilarities\u001b[0m\u001b[0;34m,\u001b[0m \u001b[0mutils\u001b[0m  \u001b[0;31m# noqa:F401\u001b[0m\u001b[0;34m\u001b[0m\u001b[0;34m\u001b[0m\u001b[0m\n\u001b[0m\u001b[1;32m     12\u001b[0m \u001b[0;34m\u001b[0m\u001b[0m\n\u001b[1;32m     13\u001b[0m \u001b[0;34m\u001b[0m\u001b[0m\n",
      "\u001b[0;32m/usr/local/lib/python3.12/dist-packages/gensim/parsing/__init__.py\u001b[0m in \u001b[0;36m<module>\u001b[0;34m\u001b[0m\n\u001b[1;32m      2\u001b[0m \u001b[0;34m\u001b[0m\u001b[0m\n\u001b[1;32m      3\u001b[0m \u001b[0;32mfrom\u001b[0m \u001b[0;34m.\u001b[0m\u001b[0mporter\u001b[0m \u001b[0;32mimport\u001b[0m \u001b[0mPorterStemmer\u001b[0m  \u001b[0;31m# noqa:F401\u001b[0m\u001b[0;34m\u001b[0m\u001b[0;34m\u001b[0m\u001b[0m\n\u001b[0;32m----> 4\u001b[0;31m from .preprocessing import (  # noqa:F401\n\u001b[0m\u001b[1;32m      5\u001b[0m     \u001b[0mpreprocess_documents\u001b[0m\u001b[0;34m,\u001b[0m\u001b[0;34m\u001b[0m\u001b[0;34m\u001b[0m\u001b[0m\n\u001b[1;32m      6\u001b[0m     \u001b[0mpreprocess_string\u001b[0m\u001b[0;34m,\u001b[0m\u001b[0;34m\u001b[0m\u001b[0;34m\u001b[0m\u001b[0m\n",
      "\u001b[0;32m/usr/local/lib/python3.12/dist-packages/gensim/parsing/preprocessing.py\u001b[0m in \u001b[0;36m<module>\u001b[0;34m\u001b[0m\n\u001b[1;32m     24\u001b[0m \u001b[0;32mimport\u001b[0m \u001b[0mglob\u001b[0m\u001b[0;34m\u001b[0m\u001b[0;34m\u001b[0m\u001b[0m\n\u001b[1;32m     25\u001b[0m \u001b[0;34m\u001b[0m\u001b[0m\n\u001b[0;32m---> 26\u001b[0;31m \u001b[0;32mfrom\u001b[0m \u001b[0mgensim\u001b[0m \u001b[0;32mimport\u001b[0m \u001b[0mutils\u001b[0m\u001b[0;34m\u001b[0m\u001b[0;34m\u001b[0m\u001b[0m\n\u001b[0m\u001b[1;32m     27\u001b[0m \u001b[0;32mfrom\u001b[0m \u001b[0mgensim\u001b[0m\u001b[0;34m.\u001b[0m\u001b[0mparsing\u001b[0m\u001b[0;34m.\u001b[0m\u001b[0mporter\u001b[0m \u001b[0;32mimport\u001b[0m \u001b[0mPorterStemmer\u001b[0m\u001b[0;34m\u001b[0m\u001b[0;34m\u001b[0m\u001b[0m\n\u001b[1;32m     28\u001b[0m \u001b[0;34m\u001b[0m\u001b[0m\n",
      "\u001b[0;32m/usr/local/lib/python3.12/dist-packages/gensim/utils.py\u001b[0m in \u001b[0;36m<module>\u001b[0;34m\u001b[0m\n\u001b[1;32m     33\u001b[0m \u001b[0;34m\u001b[0m\u001b[0m\n\u001b[1;32m     34\u001b[0m \u001b[0;32mimport\u001b[0m \u001b[0mnumpy\u001b[0m \u001b[0;32mas\u001b[0m \u001b[0mnp\u001b[0m\u001b[0;34m\u001b[0m\u001b[0;34m\u001b[0m\u001b[0m\n\u001b[0;32m---> 35\u001b[0;31m \u001b[0;32mimport\u001b[0m \u001b[0mscipy\u001b[0m\u001b[0;34m.\u001b[0m\u001b[0msparse\u001b[0m\u001b[0;34m\u001b[0m\u001b[0;34m\u001b[0m\u001b[0m\n\u001b[0m\u001b[1;32m     36\u001b[0m \u001b[0;32mfrom\u001b[0m \u001b[0msmart_open\u001b[0m \u001b[0;32mimport\u001b[0m \u001b[0mopen\u001b[0m\u001b[0;34m\u001b[0m\u001b[0;34m\u001b[0m\u001b[0m\n\u001b[1;32m     37\u001b[0m \u001b[0;34m\u001b[0m\u001b[0m\n",
      "\u001b[0;32m/usr/local/lib/python3.12/dist-packages/scipy/sparse/__init__.py\u001b[0m in \u001b[0;36m<module>\u001b[0;34m\u001b[0m\n\u001b[1;32m    292\u001b[0m \u001b[0;32mimport\u001b[0m \u001b[0mwarnings\u001b[0m \u001b[0;32mas\u001b[0m \u001b[0m_warnings\u001b[0m\u001b[0;34m\u001b[0m\u001b[0;34m\u001b[0m\u001b[0m\n\u001b[1;32m    293\u001b[0m \u001b[0;34m\u001b[0m\u001b[0m\n\u001b[0;32m--> 294\u001b[0;31m \u001b[0;32mfrom\u001b[0m \u001b[0;34m.\u001b[0m\u001b[0m_base\u001b[0m \u001b[0;32mimport\u001b[0m \u001b[0;34m*\u001b[0m\u001b[0;34m\u001b[0m\u001b[0;34m\u001b[0m\u001b[0m\n\u001b[0m\u001b[1;32m    295\u001b[0m \u001b[0;32mfrom\u001b[0m \u001b[0;34m.\u001b[0m\u001b[0m_csr\u001b[0m \u001b[0;32mimport\u001b[0m \u001b[0;34m*\u001b[0m\u001b[0;34m\u001b[0m\u001b[0;34m\u001b[0m\u001b[0m\n\u001b[1;32m    296\u001b[0m \u001b[0;32mfrom\u001b[0m \u001b[0;34m.\u001b[0m\u001b[0m_csc\u001b[0m \u001b[0;32mimport\u001b[0m \u001b[0;34m*\u001b[0m\u001b[0;34m\u001b[0m\u001b[0;34m\u001b[0m\u001b[0m\n",
      "\u001b[0;32m/usr/local/lib/python3.12/dist-packages/scipy/sparse/_base.py\u001b[0m in \u001b[0;36m<module>\u001b[0;34m\u001b[0m\n\u001b[1;32m      3\u001b[0m \u001b[0;34m\u001b[0m\u001b[0m\n\u001b[1;32m      4\u001b[0m \u001b[0;32mimport\u001b[0m \u001b[0mnumpy\u001b[0m \u001b[0;32mas\u001b[0m \u001b[0mnp\u001b[0m\u001b[0;34m\u001b[0m\u001b[0;34m\u001b[0m\u001b[0m\n\u001b[0;32m----> 5\u001b[0;31m \u001b[0;32mfrom\u001b[0m \u001b[0mscipy\u001b[0m\u001b[0;34m.\u001b[0m\u001b[0m_lib\u001b[0m\u001b[0;34m.\u001b[0m\u001b[0m_util\u001b[0m \u001b[0;32mimport\u001b[0m \u001b[0mVisibleDeprecationWarning\u001b[0m\u001b[0;34m\u001b[0m\u001b[0;34m\u001b[0m\u001b[0m\n\u001b[0m\u001b[1;32m      6\u001b[0m \u001b[0;34m\u001b[0m\u001b[0m\n\u001b[1;32m      7\u001b[0m from ._sputils import (asmatrix, check_reshape_kwargs, check_shape,\n",
      "\u001b[0;32m/usr/local/lib/python3.12/dist-packages/scipy/_lib/_util.py\u001b[0m in \u001b[0;36m<module>\u001b[0;34m\u001b[0m\n\u001b[1;32m     16\u001b[0m \u001b[0;34m\u001b[0m\u001b[0m\n\u001b[1;32m     17\u001b[0m \u001b[0;32mimport\u001b[0m \u001b[0mnumpy\u001b[0m \u001b[0;32mas\u001b[0m \u001b[0mnp\u001b[0m\u001b[0;34m\u001b[0m\u001b[0;34m\u001b[0m\u001b[0m\n\u001b[0;32m---> 18\u001b[0;31m \u001b[0;32mfrom\u001b[0m \u001b[0mscipy\u001b[0m\u001b[0;34m.\u001b[0m\u001b[0m_lib\u001b[0m\u001b[0;34m.\u001b[0m\u001b[0m_array_api\u001b[0m \u001b[0;32mimport\u001b[0m \u001b[0marray_namespace\u001b[0m\u001b[0;34m\u001b[0m\u001b[0;34m\u001b[0m\u001b[0m\n\u001b[0m\u001b[1;32m     19\u001b[0m \u001b[0;34m\u001b[0m\u001b[0m\n\u001b[1;32m     20\u001b[0m \u001b[0;34m\u001b[0m\u001b[0m\n",
      "\u001b[0;32m/usr/local/lib/python3.12/dist-packages/scipy/_lib/_array_api.py\u001b[0m in \u001b[0;36m<module>\u001b[0;34m\u001b[0m\n\u001b[1;32m     15\u001b[0m \u001b[0;34m\u001b[0m\u001b[0m\n\u001b[1;32m     16\u001b[0m \u001b[0;32mfrom\u001b[0m \u001b[0mscipy\u001b[0m\u001b[0;34m.\u001b[0m\u001b[0m_lib\u001b[0m \u001b[0;32mimport\u001b[0m \u001b[0marray_api_compat\u001b[0m\u001b[0;34m\u001b[0m\u001b[0;34m\u001b[0m\u001b[0m\n\u001b[0;32m---> 17\u001b[0;31m from scipy._lib.array_api_compat import (\n\u001b[0m\u001b[1;32m     18\u001b[0m     \u001b[0mis_array_api_obj\u001b[0m\u001b[0;34m,\u001b[0m\u001b[0;34m\u001b[0m\u001b[0;34m\u001b[0m\u001b[0m\n\u001b[1;32m     19\u001b[0m     \u001b[0msize\u001b[0m\u001b[0;34m,\u001b[0m\u001b[0;34m\u001b[0m\u001b[0;34m\u001b[0m\u001b[0m\n",
      "\u001b[0;32m/usr/local/lib/python3.12/dist-packages/scipy/_lib/array_api_compat/numpy/__init__.py\u001b[0m in \u001b[0;36m<module>\u001b[0;34m\u001b[0m\n\u001b[0;32m----> 1\u001b[0;31m \u001b[0;32mfrom\u001b[0m \u001b[0mnumpy\u001b[0m \u001b[0;32mimport\u001b[0m \u001b[0;34m*\u001b[0m\u001b[0;34m\u001b[0m\u001b[0;34m\u001b[0m\u001b[0m\n\u001b[0m\u001b[1;32m      2\u001b[0m \u001b[0;34m\u001b[0m\u001b[0m\n\u001b[1;32m      3\u001b[0m \u001b[0;31m# from numpy import * doesn't overwrite these builtin names\u001b[0m\u001b[0;34m\u001b[0m\u001b[0;34m\u001b[0m\u001b[0m\n\u001b[1;32m      4\u001b[0m \u001b[0;32mfrom\u001b[0m \u001b[0mnumpy\u001b[0m \u001b[0;32mimport\u001b[0m \u001b[0mabs\u001b[0m\u001b[0;34m,\u001b[0m \u001b[0mmax\u001b[0m\u001b[0;34m,\u001b[0m \u001b[0mmin\u001b[0m\u001b[0;34m,\u001b[0m \u001b[0mround\u001b[0m\u001b[0;34m\u001b[0m\u001b[0;34m\u001b[0m\u001b[0m\n\u001b[1;32m      5\u001b[0m \u001b[0;34m\u001b[0m\u001b[0m\n",
      "\u001b[0;32m/usr/local/lib/python3.12/dist-packages/numpy/__init__.py\u001b[0m in \u001b[0;36m__getattr__\u001b[0;34m(attr)\u001b[0m\n\u001b[1;32m    362\u001b[0m         \u001b[0;32mtry\u001b[0m\u001b[0;34m:\u001b[0m\u001b[0;34m\u001b[0m\u001b[0;34m\u001b[0m\u001b[0m\n\u001b[1;32m    363\u001b[0m             \u001b[0mx\u001b[0m \u001b[0;34m=\u001b[0m \u001b[0mones\u001b[0m\u001b[0;34m(\u001b[0m\u001b[0;36m2\u001b[0m\u001b[0;34m,\u001b[0m \u001b[0mdtype\u001b[0m\u001b[0;34m=\u001b[0m\u001b[0mfloat32\u001b[0m\u001b[0;34m)\u001b[0m\u001b[0;34m\u001b[0m\u001b[0;34m\u001b[0m\u001b[0m\n\u001b[0;32m--> 364\u001b[0;31m             \u001b[0;32mif\u001b[0m \u001b[0;32mnot\u001b[0m \u001b[0mabs\u001b[0m\u001b[0;34m(\u001b[0m\u001b[0mx\u001b[0m\u001b[0;34m.\u001b[0m\u001b[0mdot\u001b[0m\u001b[0;34m(\u001b[0m\u001b[0mx\u001b[0m\u001b[0;34m)\u001b[0m \u001b[0;34m-\u001b[0m \u001b[0mfloat32\u001b[0m\u001b[0;34m(\u001b[0m\u001b[0;36m2.0\u001b[0m\u001b[0;34m)\u001b[0m\u001b[0;34m)\u001b[0m \u001b[0;34m<\u001b[0m \u001b[0;36m1e-5\u001b[0m\u001b[0;34m:\u001b[0m\u001b[0;34m\u001b[0m\u001b[0;34m\u001b[0m\u001b[0m\n\u001b[0m\u001b[1;32m    365\u001b[0m                 \u001b[0;32mraise\u001b[0m \u001b[0mAssertionError\u001b[0m\u001b[0;34m(\u001b[0m\u001b[0;34m)\u001b[0m\u001b[0;34m\u001b[0m\u001b[0;34m\u001b[0m\u001b[0m\n\u001b[1;32m    366\u001b[0m         \u001b[0;32mexcept\u001b[0m \u001b[0mAssertionError\u001b[0m\u001b[0;34m:\u001b[0m\u001b[0;34m\u001b[0m\u001b[0;34m\u001b[0m\u001b[0m\n",
      "\u001b[0;31mModuleNotFoundError\u001b[0m: No module named 'numpy.rec'",
      "",
      "\u001b[0;31m---------------------------------------------------------------------------\u001b[0;32m\nNOTE: If your import is failing due to a missing package, you can\nmanually install dependencies using either !pip or !apt.\n\nTo view examples of installing some common dependencies, click the\n\"Open Examples\" button below.\n\u001b[0;31m---------------------------------------------------------------------------\u001b[0m\n"
     ]
    }
   ],
   "source": [
    "%pip install gensim\n",
    "from gensim.corpora import Dictionary"
   ]
  },
  {
   "cell_type": "code",
   "execution_count": 1,
   "metadata": {
    "executionInfo": {
     "elapsed": 1920,
     "status": "ok",
     "timestamp": 1758252117333,
     "user": {
      "displayName": "Rafsun Sheikh",
      "userId": "00661906799562681997"
     },
     "user_tz": -600
    },
    "id": "A75gkcjVfkYp"
   },
   "outputs": [],
   "source": [
    "import pandas as pd\n",
    "from gensim.corpora import Dictionary"
   ]
  },
  {
   "cell_type": "code",
   "execution_count": 2,
   "metadata": {
    "colab": {
     "base_uri": "https://localhost:8080/"
    },
    "executionInfo": {
     "elapsed": 27435,
     "status": "ok",
     "timestamp": 1758252149818,
     "user": {
      "displayName": "Rafsun Sheikh",
      "userId": "00661906799562681997"
     },
     "user_tz": -600
    },
    "id": "X9JMar6iXnfB",
    "outputId": "68356bef-9e13-41c6-86f4-95dee8161ee9"
   },
   "outputs": [
    {
     "name": "stdout",
     "output_type": "stream",
     "text": [
      "Mounted at /content/drive\n"
     ]
    }
   ],
   "source": [
    "from google.colab import drive\n",
    "drive.mount('/content/drive')"
   ]
  },
  {
   "cell_type": "markdown",
   "metadata": {
    "id": "PFqYudOHTAEW"
   },
   "source": [
    "### **Load the Dictionary and Corpus**"
   ]
  },
  {
   "cell_type": "code",
   "execution_count": 3,
   "metadata": {
    "colab": {
     "base_uri": "https://localhost:8080/"
    },
    "executionInfo": {
     "elapsed": 5280,
     "status": "ok",
     "timestamp": 1758252154980,
     "user": {
      "displayName": "Rafsun Sheikh",
      "userId": "00661906799562681997"
     },
     "user_tz": -600
    },
    "id": "2-MF0gbKgGXd",
    "outputId": "69375804-3a1a-45e4-c7a9-e07b6c910b27"
   },
   "outputs": [
    {
     "name": "stdout",
     "output_type": "stream",
     "text": [
      "Corpus loaded successfully.\n",
      "Dictionary loaded successfully.\n"
     ]
    }
   ],
   "source": [
    "from gensim import corpora\n",
    "from gensim.corpora import Dictionary\n",
    "\n",
    "# Load the corpus from the .mm file\n",
    "corpus = corpora.MmCorpus('/content/drive/MyDrive/Colab Notebooks/alex/models/dictionary_and_corpus/corpus.mm')\n",
    "\n",
    "print(\"Corpus loaded successfully.\")\n",
    "# You can optionally print the corpus to inspect its structure\n",
    "# print(list(corpus))\n",
    "\n",
    "\n",
    "# Load the dictionary from the .dict file\n",
    "dictionary = Dictionary.load('/content/drive/MyDrive/Colab Notebooks/alex/models/dictionary_and_corpus/dictionary.gensim')\n",
    "\n",
    "print(\"Dictionary loaded successfully.\")\n",
    "# You can optionally print the dictionary to inspect its contents\n",
    "# print(dictionary.token2id)\n",
    "# print(dictionary.id2token)"
   ]
  },
  {
   "cell_type": "markdown",
   "metadata": {
    "id": "0-ZNeGYATHPL"
   },
   "source": [
    "### **Start The Training**"
   ]
  },
  {
   "cell_type": "code",
   "execution_count": 4,
   "metadata": {
    "executionInfo": {
     "elapsed": 18307922,
     "status": "ok",
     "timestamp": 1758270462947,
     "user": {
      "displayName": "Rafsun Sheikh",
      "userId": "00661906799562681997"
     },
     "user_tz": -600
    },
    "id": "cCN_0WbeTKer"
   },
   "outputs": [],
   "source": [
    "import gensim\n",
    "# Creating the object for LDA model using gensim library\n",
    "LDA = gensim.models.ldamodel.LdaModel\n",
    "# Build LDA model\n",
    "lda_model_45_topics = LDA(corpus=corpus, id2word=dictionary, num_topics=45, random_state=100,\n",
    "                chunksize=1000, passes=25,iterations=50)"
   ]
  },
  {
   "cell_type": "markdown",
   "metadata": {
    "id": "HAKJZ2qaTLEV"
   },
   "source": [
    "### **Save the model**"
   ]
  },
  {
   "cell_type": "code",
   "execution_count": 5,
   "metadata": {
    "colab": {
     "base_uri": "https://localhost:8080/"
    },
    "executionInfo": {
     "elapsed": 17,
     "status": "ok",
     "timestamp": 1758270462969,
     "user": {
      "displayName": "Rafsun Sheikh",
      "userId": "00661906799562681997"
     },
     "user_tz": -600
    },
    "id": "ufO9kUyVTOdc",
    "outputId": "aafcc9ae-a89b-4a5d-abf3-ecfcfc6a5cb6"
   },
   "outputs": [
    {
     "data": {
      "text/plain": [
       "[(13,\n",
       "  '0.088*\"p.m\" + 0.057*\"espn\" + 0.032*\"tv\" + 0.024*\"watch\" + 0.021*\"network\" + 0.018*\"sports\" + 0.017*\"cbs\" + 0.015*\"live\" + 0.015*\"march\" + 0.014*\"friday\"'),\n",
       " (23,\n",
       "  '0.251*\"northwestern\" + 0.063*\"wildcats\" + 0.058*\"burns\" + 0.058*\"williamson\" + 0.045*\"quinn\" + 0.041*\"rubin\" + 0.035*\"collier\" + 0.027*\"peterson\" + 0.018*\"bowman\" + 0.016*\"sanchez\"'),\n",
       " (8,\n",
       "  '0.032*\"season\" + 0.023*\"injury\" + 0.014*\"week\" + 0.014*\"injuries\" + 0.014*\"games\" + 0.013*\"play\" + 0.011*\"practice\" + 0.010*\"day\" + 0.010*\"return\" + 0.009*\"team\"'),\n",
       " (9,\n",
       "  '0.034*\"final\" + 0.027*\"coach\" + 0.026*\"won\" + 0.025*\"team\" + 0.022*\"basketball\" + 0.021*\"national_championship\" + 0.019*\"championship\" + 0.019*\"championships\" + 0.018*\"history\" + 0.017*\"time\"'),\n",
       " (26,\n",
       "  '0.022*\"match\" + 0.021*\"tbd\" + 0.021*\"women\" + 0.019*\"volleyball\" + 0.017*\"set\" + 0.015*\"tennis\" + 0.012*\"trans\" + 0.011*\"def\" + 0.011*\"final\" + 0.010*\"van\"'),\n",
       " (19,\n",
       "  '0.039*\"season\" + 0.029*\"guard\" + 0.018*\"rebounds\" + 0.015*\"forward\" + 0.014*\"assists\" + 0.014*\"scoring\" + 0.014*\"freshman\" + 0.013*\"player\" + 0.013*\"team\" + 0.012*\"shooting\"'),\n",
       " (16,\n",
       "  '0.033*\"team\" + 0.022*\"season\" + 0.019*\"players\" + 0.017*\"play\" + 0.015*\"lot\" + 0.013*\"time\" + 0.011*\"playing\" + 0.010*\"games\" + 0.010*\"coach\" + 0.009*\"guys\"'),\n",
       " (0,\n",
       "  '0.043*\"athletes\" + 0.031*\"university\" + 0.028*\"school\" + 0.024*\"sports\" + 0.023*\"schools\" + 0.021*\"students\" + 0.020*\"women\" + 0.018*\"college\" + 0.016*\"athletic\" + 0.014*\"student_athletes\"'),\n",
       " (17,\n",
       "  '0.114*\"penn\" + 0.052*\"temple\" + 0.049*\"staley\" + 0.027*\"owls\" + 0.026*\"joe\" + 0.025*\"la\" + 0.023*\"drexel\" + 0.023*\"salle\" + 0.021*\"ivy_league\" + 0.018*\"hawks\"'),\n",
       " (29,\n",
       "  '0.050*\"goals\" + 0.037*\"goal\" + 0.025*\"scored\" + 0.016*\"season\" + 0.014*\"win\" + 0.013*\"assists\" + 0.012*\"overtime\" + 0.011*\"lead\" + 0.011*\"lacrosse\" + 0.010*\"scoring\"'),\n",
       " (41,\n",
       "  '0.230*\"clark\" + 0.119*\"wildcats\" + 0.064*\"wright\" + 0.062*\"calipari\" + 0.057*\"cronin\" + 0.051*\"brown\" + 0.027*\"barnes\" + 0.021*\"jay\" + 0.020*\"morrow\" + 0.015*\"stony_brook\"'),\n",
       " (14,\n",
       "  '0.118*\"st\" + 0.071*\"pitino\" + 0.070*\"east\" + 0.059*\"hall\" + 0.033*\"thompson\" + 0.030*\"willard\" + 0.029*\"providence\" + 0.029*\"red_storm\" + 0.028*\"garden\" + 0.028*\"seton\"'),\n",
       " (35,\n",
       "  '0.030*\"sports\" + 0.015*\"trump\" + 0.015*\"business\" + 0.014*\"social\" + 0.012*\"indexing\" + 0.010*\"term\" + 0.009*\"health\" + 0.008*\"media\" + 0.008*\"company\" + 0.008*\"united\"'),\n",
       " (34,\n",
       "  '0.011*\"city\" + 0.011*\"president\" + 0.010*\"sports_betting\" + 0.010*\"gambling\" + 0.010*\"streaming\" + 0.007*\"people\" + 0.006*\"bill\" + 0.005*\"law\" + 0.005*\"events\" + 0.005*\"united\"'),\n",
       " (27,\n",
       "  '0.072*\"nfl\" + 0.030*\"football\" + 0.021*\"sanders\" + 0.017*\"super_bowl\" + 0.015*\"betts\" + 0.014*\"quarterback\" + 0.013*\"bears\" + 0.013*\"draft\" + 0.011*\"pro\" + 0.011*\"patriots\"'),\n",
       " (12,\n",
       "  '0.099*\"photo\" + 0.054*\"watkins\" + 0.050*\"caption\" + 0.038*\"ap\" + 0.032*\"tribune\" + 0.027*\"loyola\" + 0.025*\"collins\" + 0.021*\"getty\" + 0.017*\"clayton\" + 0.016*\"images\"'),\n",
       " (6,\n",
       "  '0.058*\"march\" + 0.038*\"west\" + 0.033*\"grand_canyon\" + 0.027*\"uc\" + 0.025*\"cal\" + 0.024*\"san\" + 0.023*\"beach\" + 0.020*\"santa\" + 0.020*\"mendoza\" + 0.019*\"francisco\"'),\n",
       " (31,\n",
       "  '0.030*\"league\" + 0.014*\"season\" + 0.012*\"baseball\" + 0.011*\"games\" + 0.010*\"professional\" + 0.010*\"team\" + 0.010*\"york\" + 0.008*\"manager\" + 0.008*\"united\" + 0.008*\"contract\"'),\n",
       " (10,\n",
       "  '0.058*\"wrestling\" + 0.027*\"edwards\" + 0.020*\"st\" + 0.019*\"island\" + 0.019*\"wagner\" + 0.019*\"st_thomas\" + 0.017*\"robinson\" + 0.016*\"hofstra\" + 0.015*\"james_madison\" + 0.014*\"division_iii\"'),\n",
       " (3,\n",
       "  '0.020*\"scored\" + 0.017*\"round\" + 0.015*\"south\" + 0.012*\"tech\" + 0.010*\"seeded\" + 0.010*\"win\" + 0.009*\"beat\" + 0.009*\"st\" + 0.008*\"lead\" + 0.008*\"rebounds\"')]"
      ]
     },
     "execution_count": 5,
     "metadata": {},
     "output_type": "execute_result"
    }
   ],
   "source": [
    "lda_model_45_topics.print_topics()"
   ]
  },
  {
   "cell_type": "code",
   "execution_count": 6,
   "metadata": {
    "executionInfo": {
     "elapsed": 9675,
     "status": "ok",
     "timestamp": 1758270472647,
     "user": {
      "displayName": "Rafsun Sheikh",
      "userId": "00661906799562681997"
     },
     "user_tz": -600
    },
    "id": "cXdmeH8pckGY"
   },
   "outputs": [],
   "source": [
    "import os\n",
    "\n",
    "save_dir = \"/content/drive/MyDrive/Colab Notebooks/alex/models/lda_45_topics\"\n",
    "os.makedirs(save_dir, exist_ok=True)\n",
    "\n",
    "# Save the LDA model\n",
    "lda_model_45_topics.save(os.path.join(save_dir, \"lda_model_45_topics.gensim\"))"
   ]
  },
  {
   "cell_type": "code",
   "execution_count": 7,
   "metadata": {
    "colab": {
     "base_uri": "https://localhost:8080/"
    },
    "executionInfo": {
     "elapsed": 18408,
     "status": "ok",
     "timestamp": 1758270491058,
     "user": {
      "displayName": "Rafsun Sheikh",
      "userId": "00661906799562681997"
     },
     "user_tz": -600
    },
    "id": "RVstx81enNHb",
    "outputId": "5fa98f81-9d3f-4ce6-864a-d3a98dab3e02"
   },
   "outputs": [
    {
     "name": "stdout",
     "output_type": "stream",
     "text": [
      "Loaded 149649 documents from /content/drive/MyDrive/Colab Notebooks/alex/models/dictionary_and_corpus/texts.json\n"
     ]
    }
   ],
   "source": [
    "import json\n",
    "from gensim.models import LdaModel, CoherenceModel\n",
    "\n",
    "# Assuming your JSON file contains a list of lists, where each inner list is a tokenized document\n",
    "# Replace '/content/drive/MyDrive/path/to/your/texts.json' with the actual path to your JSON file\n",
    "texts_file_path = '/content/drive/MyDrive/Colab Notebooks/alex/models/dictionary_and_corpus/texts.json'\n",
    "\n",
    "with open(texts_file_path, 'r') as f:\n",
    "    texts = json.load(f)\n",
    "\n",
    "print(f\"Loaded {len(texts)} documents from {texts_file_path}\")"
   ]
  },
  {
   "cell_type": "code",
   "execution_count": 8,
   "metadata": {
    "colab": {
     "base_uri": "https://localhost:8080/"
    },
    "executionInfo": {
     "elapsed": 3843125,
     "status": "ok",
     "timestamp": 1758274334184,
     "user": {
      "displayName": "Rafsun Sheikh",
      "userId": "00661906799562681997"
     },
     "user_tz": -600
    },
    "id": "eCT0jbTTZvQ3",
    "outputId": "5e7ae48d-c288-4ab1-8fd5-5eb270a687fa"
   },
   "outputs": [
    {
     "name": "stdout",
     "output_type": "stream",
     "text": [
      "Coherence (c_v): 0.5232257582109225\n"
     ]
    }
   ],
   "source": [
    "# 7) Coherence (optional but recommended for model selection)\n",
    "cm = CoherenceModel(model=lda_model_45_topics, texts=texts, dictionary=dictionary, coherence='c_v')\n",
    "coherence = cm.get_coherence()\n",
    "print(\"Coherence (c_v):\", coherence)"
   ]
  },
  {
   "cell_type": "markdown",
   "metadata": {},
   "source": [
    "##### **© 2024–2025 MD Rafsun Sheikh**\n",
    "##### **Licensed under the Apache License, Version 2.0.**"
   ]
  }
 ],
 "metadata": {
  "colab": {
   "authorship_tag": "ABX9TyNOSz0JFasdBlgI/Wx4m41b",
   "provenance": [
    {
     "file_id": "1D6ykXbSKqzwudF5t3q0XLD7oUUc1xm8c",
     "timestamp": 1756124655906
    },
    {
     "file_id": "14UIi2-YxZVqrl2AoVuAEnGqDRxuK8n4g",
     "timestamp": 1756124603422
    },
    {
     "file_id": "18Yo1coOOjrSSgPlDe_K99R1CWvqWMIzZ",
     "timestamp": 1756033521019
    },
    {
     "file_id": "1wLTdD6e2I1ZxLtNWe1buezz1OnIlvToL",
     "timestamp": 1756033452035
    },
    {
     "file_id": "1mFz5TGnTXRnRyk8VaeJQhWsIRz9nvmul",
     "timestamp": 1756033356622
    },
    {
     "file_id": "1Lp3cbJiS2vCgnhvYh6ulq_2ENstOaJWY",
     "timestamp": 1756028424303
    }
   ]
  },
  "kernelspec": {
   "display_name": "Python 3",
   "name": "python3"
  },
  "language_info": {
   "name": "python"
  }
 },
 "nbformat": 4,
 "nbformat_minor": 0
}
